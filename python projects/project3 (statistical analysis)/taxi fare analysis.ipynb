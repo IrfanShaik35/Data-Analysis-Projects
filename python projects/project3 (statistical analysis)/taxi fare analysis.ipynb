{
 "cells": [
  {
   "cell_type": "markdown",
   "id": "96ce35da-8a27-401f-9746-eca2454b0acc",
   "metadata": {},
   "source": [
    "# Importing data"
   ]
  },
  {
   "cell_type": "code",
   "execution_count": 22,
   "id": "9d0f3436-d1df-4b87-adbd-22f12385667b",
   "metadata": {},
   "outputs": [],
   "source": [
    "import pandas as pd\n",
    "import numpy as np\n",
    "import matplotlib.pyplot as plt\n",
    "import seaborn as sns\n",
    "from scipy.stats import chi2_contingency,shapiro,kruskal,levene,mannwhitneyu"
   ]
  },
  {
   "cell_type": "code",
   "execution_count": 2,
   "id": "49506847-f2aa-4339-90c5-03522b3b5726",
   "metadata": {},
   "outputs": [
    {
     "data": {
      "text/html": [
       "<div>\n",
       "<style scoped>\n",
       "    .dataframe tbody tr th:only-of-type {\n",
       "        vertical-align: middle;\n",
       "    }\n",
       "\n",
       "    .dataframe tbody tr th {\n",
       "        vertical-align: top;\n",
       "    }\n",
       "\n",
       "    .dataframe thead th {\n",
       "        text-align: right;\n",
       "    }\n",
       "</style>\n",
       "<table border=\"1\" class=\"dataframe\">\n",
       "  <thead>\n",
       "    <tr style=\"text-align: right;\">\n",
       "      <th></th>\n",
       "      <th>passenger_count</th>\n",
       "      <th>trip_distance</th>\n",
       "      <th>payment_type</th>\n",
       "      <th>fare_amount</th>\n",
       "      <th>duration</th>\n",
       "    </tr>\n",
       "  </thead>\n",
       "  <tbody>\n",
       "    <tr>\n",
       "      <th>0</th>\n",
       "      <td>1</td>\n",
       "      <td>3.70</td>\n",
       "      <td>Card</td>\n",
       "      <td>24.0</td>\n",
       "      <td>27.950000</td>\n",
       "    </tr>\n",
       "    <tr>\n",
       "      <th>1</th>\n",
       "      <td>1</td>\n",
       "      <td>2.77</td>\n",
       "      <td>Card</td>\n",
       "      <td>18.4</td>\n",
       "      <td>19.200000</td>\n",
       "    </tr>\n",
       "    <tr>\n",
       "      <th>2</th>\n",
       "      <td>1</td>\n",
       "      <td>3.30</td>\n",
       "      <td>Card</td>\n",
       "      <td>22.6</td>\n",
       "      <td>27.383333</td>\n",
       "    </tr>\n",
       "    <tr>\n",
       "      <th>3</th>\n",
       "      <td>1</td>\n",
       "      <td>0.30</td>\n",
       "      <td>Cash</td>\n",
       "      <td>5.1</td>\n",
       "      <td>2.550000</td>\n",
       "    </tr>\n",
       "    <tr>\n",
       "      <th>4</th>\n",
       "      <td>1</td>\n",
       "      <td>0.83</td>\n",
       "      <td>Card</td>\n",
       "      <td>7.2</td>\n",
       "      <td>5.250000</td>\n",
       "    </tr>\n",
       "  </tbody>\n",
       "</table>\n",
       "</div>"
      ],
      "text/plain": [
       "   passenger_count  trip_distance payment_type  fare_amount   duration\n",
       "0                1           3.70         Card         24.0  27.950000\n",
       "1                1           2.77         Card         18.4  19.200000\n",
       "2                1           3.30         Card         22.6  27.383333\n",
       "3                1           0.30         Cash          5.1   2.550000\n",
       "4                1           0.83         Card          7.2   5.250000"
      ]
     },
     "execution_count": 2,
     "metadata": {},
     "output_type": "execute_result"
    }
   ],
   "source": [
    "data=pd.read_csv(\"Taxi_Trip_Data_preprocessed.csv\")\n",
    "data.head(5)"
   ]
  },
  {
   "cell_type": "markdown",
   "id": "4000f6de-6175-45c9-95a8-c5e3becce230",
   "metadata": {},
   "source": [
    "# Exploratory Data analysis"
   ]
  },
  {
   "cell_type": "code",
   "execution_count": 3,
   "id": "63cc42d3-aad8-4f63-8cfa-3349ddfc219d",
   "metadata": {},
   "outputs": [
    {
     "data": {
      "text/html": [
       "<div>\n",
       "<style scoped>\n",
       "    .dataframe tbody tr th:only-of-type {\n",
       "        vertical-align: middle;\n",
       "    }\n",
       "\n",
       "    .dataframe tbody tr th {\n",
       "        vertical-align: top;\n",
       "    }\n",
       "\n",
       "    .dataframe thead th {\n",
       "        text-align: right;\n",
       "    }\n",
       "</style>\n",
       "<table border=\"1\" class=\"dataframe\">\n",
       "  <thead>\n",
       "    <tr style=\"text-align: right;\">\n",
       "      <th></th>\n",
       "      <th>passenger_count</th>\n",
       "      <th>trip_distance</th>\n",
       "      <th>fare_amount</th>\n",
       "      <th>duration</th>\n",
       "    </tr>\n",
       "  </thead>\n",
       "  <tbody>\n",
       "    <tr>\n",
       "      <th>count</th>\n",
       "      <td>8.451090e+06</td>\n",
       "      <td>8.451090e+06</td>\n",
       "      <td>8.451090e+06</td>\n",
       "      <td>8.451090e+06</td>\n",
       "    </tr>\n",
       "    <tr>\n",
       "      <th>mean</th>\n",
       "      <td>1.339824e+00</td>\n",
       "      <td>1.751135e+00</td>\n",
       "      <td>1.273180e+01</td>\n",
       "      <td>1.173603e+01</td>\n",
       "    </tr>\n",
       "    <tr>\n",
       "      <th>std</th>\n",
       "      <td>7.658024e-01</td>\n",
       "      <td>1.045488e+00</td>\n",
       "      <td>5.346809e+00</td>\n",
       "      <td>6.218064e+00</td>\n",
       "    </tr>\n",
       "    <tr>\n",
       "      <th>min</th>\n",
       "      <td>1.000000e+00</td>\n",
       "      <td>1.000000e-02</td>\n",
       "      <td>1.000000e-02</td>\n",
       "      <td>1.666667e-02</td>\n",
       "    </tr>\n",
       "    <tr>\n",
       "      <th>25%</th>\n",
       "      <td>1.000000e+00</td>\n",
       "      <td>9.700000e-01</td>\n",
       "      <td>8.600000e+00</td>\n",
       "      <td>6.900000e+00</td>\n",
       "    </tr>\n",
       "    <tr>\n",
       "      <th>50%</th>\n",
       "      <td>1.000000e+00</td>\n",
       "      <td>1.500000e+00</td>\n",
       "      <td>1.210000e+01</td>\n",
       "      <td>1.065000e+01</td>\n",
       "    </tr>\n",
       "    <tr>\n",
       "      <th>75%</th>\n",
       "      <td>1.000000e+00</td>\n",
       "      <td>2.300000e+00</td>\n",
       "      <td>1.630000e+01</td>\n",
       "      <td>1.561667e+01</td>\n",
       "    </tr>\n",
       "    <tr>\n",
       "      <th>max</th>\n",
       "      <td>5.000000e+00</td>\n",
       "      <td>5.230000e+00</td>\n",
       "      <td>4.080000e+01</td>\n",
       "      <td>2.995000e+01</td>\n",
       "    </tr>\n",
       "  </tbody>\n",
       "</table>\n",
       "</div>"
      ],
      "text/plain": [
       "       passenger_count  trip_distance   fare_amount      duration\n",
       "count     8.451090e+06   8.451090e+06  8.451090e+06  8.451090e+06\n",
       "mean      1.339824e+00   1.751135e+00  1.273180e+01  1.173603e+01\n",
       "std       7.658024e-01   1.045488e+00  5.346809e+00  6.218064e+00\n",
       "min       1.000000e+00   1.000000e-02  1.000000e-02  1.666667e-02\n",
       "25%       1.000000e+00   9.700000e-01  8.600000e+00  6.900000e+00\n",
       "50%       1.000000e+00   1.500000e+00  1.210000e+01  1.065000e+01\n",
       "75%       1.000000e+00   2.300000e+00  1.630000e+01  1.561667e+01\n",
       "max       5.000000e+00   5.230000e+00  4.080000e+01  2.995000e+01"
      ]
     },
     "execution_count": 3,
     "metadata": {},
     "output_type": "execute_result"
    }
   ],
   "source": [
    "data.describe()"
   ]
  },
  {
   "cell_type": "code",
   "execution_count": 7,
   "id": "f419735f-5dad-4c26-a505-5494312b4543",
   "metadata": {},
   "outputs": [
    {
     "name": "stdout",
     "output_type": "stream",
     "text": [
      "<class 'pandas.core.frame.DataFrame'>\n",
      "RangeIndex: 8451090 entries, 0 to 8451089\n",
      "Data columns (total 5 columns):\n",
      " #   Column           Dtype  \n",
      "---  ------           -----  \n",
      " 0   passenger_count  int64  \n",
      " 1   trip_distance    float64\n",
      " 2   payment_type     object \n",
      " 3   fare_amount      float64\n",
      " 4   duration         float64\n",
      "dtypes: float64(3), int64(1), object(1)\n",
      "memory usage: 322.4+ MB\n"
     ]
    }
   ],
   "source": [
    "data.info()"
   ]
  },
  {
   "cell_type": "code",
   "execution_count": 13,
   "id": "596a864f-474e-4c9e-9733-8907fcf117c1",
   "metadata": {},
   "outputs": [
    {
     "data": {
      "text/plain": [
       "passenger_count    0\n",
       "trip_distance      0\n",
       "payment_type       0\n",
       "fare_amount        0\n",
       "duration           0\n",
       "dtype: int64"
      ]
     },
     "execution_count": 13,
     "metadata": {},
     "output_type": "execute_result"
    }
   ],
   "source": [
    "#checking null values\n",
    "data.isnull().sum()"
   ]
  },
  {
   "cell_type": "code",
   "execution_count": 15,
   "id": "7622fe3b-fcf6-4bfb-9279-92bf1544a13c",
   "metadata": {},
   "outputs": [
    {
     "data": {
      "text/plain": [
       "5557871"
      ]
     },
     "execution_count": 15,
     "metadata": {},
     "output_type": "execute_result"
    }
   ],
   "source": [
    "#checking duplicates\n",
    "data.duplicated().sum()"
   ]
  },
  {
   "cell_type": "code",
   "execution_count": 3,
   "id": "7715a1f7-1dd4-478e-91a6-91fd5029259f",
   "metadata": {},
   "outputs": [
    {
     "data": {
      "text/plain": [
       "0"
      ]
     },
     "execution_count": 3,
     "metadata": {},
     "output_type": "execute_result"
    }
   ],
   "source": [
    "#deleting duplicate values\n",
    "data.drop_duplicates(inplace=True)\n",
    "data.duplicated().sum()"
   ]
  },
  {
   "cell_type": "code",
   "execution_count": 18,
   "id": "79be4f74-5ce2-4096-a92e-892d0ca54a3f",
   "metadata": {},
   "outputs": [
    {
     "data": {
      "text/plain": [
       "passenger_count\n",
       "1    1739641\n",
       "2     659845\n",
       "3     242397\n",
       "4     147287\n",
       "5     104049\n",
       "Name: count, dtype: int64"
      ]
     },
     "execution_count": 18,
     "metadata": {},
     "output_type": "execute_result"
    }
   ],
   "source": [
    "#checking no.of passengers\n",
    "data['passenger_count'].value_counts()"
   ]
  },
  {
   "cell_type": "code",
   "execution_count": 19,
   "id": "e6dde398-6e01-484e-977c-23b8ffa72838",
   "metadata": {},
   "outputs": [
    {
     "data": {
      "text/plain": [
       "payment_type\n",
       "Card    2095671\n",
       "Cash     797548\n",
       "Name: count, dtype: int64"
      ]
     },
     "execution_count": 19,
     "metadata": {},
     "output_type": "execute_result"
    }
   ],
   "source": [
    "#checking payment types\n",
    "data['payment_type'].value_counts()"
   ]
  },
  {
   "cell_type": "code",
   "execution_count": 20,
   "id": "e09e4ad7-5d9d-4d9e-9553-d511d1ea329e",
   "metadata": {},
   "outputs": [
    {
     "data": {
      "image/png": "[encoded data removed]",
      "text/plain": [
       "<Figure size 640x480 with 1 Axes>"
      ]
     },
     "metadata": {},
     "output_type": "display_data"
    }
   ],
   "source": [
    "#checking for outliers\n",
    "plt.boxplot(data['fare_amount'])\n",
    "plt.show()"
   ]
  },
  {
   "cell_type": "code",
   "execution_count": 4,
   "id": "064c5fbd-8564-4652-87cf-d885a97bd13a",
   "metadata": {},
   "outputs": [
    {
     "data": {
      "image/png": "[encoded data removed]",
      "text/plain": [
       "<Figure size 640x480 with 1 Axes>"
      ]
     },
     "metadata": {},
     "output_type": "display_data"
    }
   ],
   "source": [
    "#removing outliers\n",
    "a=sorted(data['fare_amount'])\n",
    "q1,q3=np.percentile(a,[25,75])\n",
    "iqr=q3-q1\n",
    "l=q1-(1.5*iqr)\n",
    "h=q3+(1.5*iqr)\n",
    "data=data[(data['fare_amount']>=l) & (data['fare_amount']<=h)]\n",
    "plt.boxplot(data['fare_amount'])\n",
    "plt.show()"
   ]
  },
  {
   "cell_type": "code",
   "execution_count": 51,
   "id": "e2696628-f5df-4831-b78e-2abe2a522f05",
   "metadata": {},
   "outputs": [
    {
     "data": {
      "image/png": "[encoded data removed]",
      "text/plain": [
       "<Figure size 640x480 with 1 Axes>"
      ]
     },
     "metadata": {},
     "output_type": "display_data"
    }
   ],
   "source": [
    "plt.boxplot(data['trip_distance'])\n",
    "plt.show()"
   ]
  },
  {
   "cell_type": "code",
   "execution_count": 52,
   "id": "747772e6-8a08-492e-b5be-b61367877c9b",
   "metadata": {},
   "outputs": [
    {
     "data": {
      "image/png": "[encoded data removed]",
      "text/plain": [
       "<Figure size 640x480 with 1 Axes>"
      ]
     },
     "metadata": {},
     "output_type": "display_data"
    }
   ],
   "source": [
    "\n",
    "plt.boxplot(data['duration'])\n",
    "plt.show()"
   ]
  },
  {
   "cell_type": "markdown",
   "id": "3f0a1882-fd0a-4bb2-a74a-7d4059208570",
   "metadata": {},
   "source": [
    "# statistical Analysis"
   ]
  },
  {
   "cell_type": "markdown",
   "id": "6ae1f9f9-4c6a-4f73-a08f-bbdd2793c5ca",
   "metadata": {},
   "source": [
    "### 1. Payment Type vs Trip Distance\n",
    "\n",
    "since here we checking whether payment type is dependent on trip distance or not. so we use chi2 test for indepencence\n",
    "\n",
    "payment type- categoricol col\n",
    "\n",
    "trip distance - continuous col\n",
    "\n",
    "we convert trip distnace to caegorical col then we apply test\n",
    "\n",
    "Short = 0–2 miles\n",
    "\n",
    "Medium = 2–4 miles\n",
    "\n",
    "Long = >4 miles"
   ]
  },
  {
   "cell_type": "code",
   "execution_count": 5,
   "id": "e0392d8f-6d51-4ac4-9c7a-baac6917aaaa",
   "metadata": {},
   "outputs": [],
   "source": [
    "data['distance']=data['trip_distance'].apply(lambda x: 'short' if x<2 else('medium' if ((x>=2) & (x<=4)) else 'long'))\n"
   ]
  },
  {
   "cell_type": "code",
   "execution_count": 6,
   "id": "30494406-00a5-46ca-bae9-dc5d9571ac82",
   "metadata": {},
   "outputs": [
    {
     "data": {
      "text/html": [
       "<div>\n",
       "<style scoped>\n",
       "    .dataframe tbody tr th:only-of-type {\n",
       "        vertical-align: middle;\n",
       "    }\n",
       "\n",
       "    .dataframe tbody tr th {\n",
       "        vertical-align: top;\n",
       "    }\n",
       "\n",
       "    .dataframe thead th {\n",
       "        text-align: right;\n",
       "    }\n",
       "</style>\n",
       "<table border=\"1\" class=\"dataframe\">\n",
       "  <thead>\n",
       "    <tr style=\"text-align: right;\">\n",
       "      <th>distance</th>\n",
       "      <th>long</th>\n",
       "      <th>medium</th>\n",
       "      <th>short</th>\n",
       "    </tr>\n",
       "    <tr>\n",
       "      <th>payment_type</th>\n",
       "      <th></th>\n",
       "      <th></th>\n",
       "      <th></th>\n",
       "    </tr>\n",
       "  </thead>\n",
       "  <tbody>\n",
       "    <tr>\n",
       "      <th>Card</th>\n",
       "      <td>266557</td>\n",
       "      <td>935950</td>\n",
       "      <td>892191</td>\n",
       "    </tr>\n",
       "    <tr>\n",
       "      <th>Cash</th>\n",
       "      <td>59508</td>\n",
       "      <td>281926</td>\n",
       "      <td>455952</td>\n",
       "    </tr>\n",
       "  </tbody>\n",
       "</table>\n",
       "</div>"
      ],
      "text/plain": [
       "distance        long  medium   short\n",
       "payment_type                        \n",
       "Card          266557  935950  892191\n",
       "Cash           59508  281926  455952"
      ]
     },
     "execution_count": 6,
     "metadata": {},
     "output_type": "execute_result"
    }
   ],
   "source": [
    "observed=pd.crosstab(data['payment_type'],data['distance'])\n",
    "observed"
   ]
  },
  {
   "cell_type": "code",
   "execution_count": 55,
   "id": "b59424a0-db2c-40d1-833a-ffceb7f3384f",
   "metadata": {},
   "outputs": [
    {
     "data": {
      "text/plain": [
       "<Axes: xlabel='payment_type'>"
      ]
     },
     "execution_count": 55,
     "metadata": {},
     "output_type": "execute_result"
    },
    {
     "data": {
      "image/png": "[encoded data removed]",
      "text/plain": [
       "<Figure size 640x480 with 1 Axes>"
      ]
     },
     "metadata": {},
     "output_type": "display_data"
    }
   ],
   "source": [
    "observed.plot(kind='bar',stacked=True)"
   ]
  },
  {
   "cell_type": "markdown",
   "id": "b29af432-6b11-41aa-a1a5-63a4072e2a12",
   "metadata": {},
   "source": [
    "H0: payment type and distance are independent\n",
    "\n",
    "H1: payment type and distance are not independent "
   ]
  },
  {
   "cell_type": "code",
   "execution_count": 38,
   "id": "68b3c73c-59ac-45f7-90c1-b35d7f321106",
   "metadata": {},
   "outputs": [
    {
     "name": "stdout",
     "output_type": "stream",
     "text": [
      "52479.32113996969\n",
      "reject H0: Payment type and trip distance are NOT independent.\n"
     ]
    }
   ],
   "source": [
    "chi,p,dof,expected=chi2_contingency(observed)\n",
    "print(chi)\n",
    "alpha=0.05\n",
    "if p<alpha:\n",
    "    print('reject H0: Payment type and trip distance are NOT independent.')\n",
    "else:\n",
    "    print('fail to reject H0: Payment type and trip distance are independent.')"
   ]
  },
  {
   "cell_type": "markdown",
   "id": "0536bc51-c973-4c0a-a84f-cffb1935782b",
   "metadata": {},
   "source": [
    "### 2. Does passenger count affect fare amount?\n",
    "\n",
    "Passenger count = categorical \n",
    "\n",
    "Fare amount = continuous\n",
    "\n",
    "here we can use anova as there is 1 factor(passengers) and its levels are (1,2,3,4,5) before that we need to check whether it is normal or not"
   ]
  },
  {
   "cell_type": "code",
   "execution_count": 8,
   "id": "cfa24d1d-ba0d-4c42-b801-938d6f60159b",
   "metadata": {},
   "outputs": [
    {
     "data": {
      "text/plain": [
       "<Axes: xlabel='fare_amount', ylabel='Count'>"
      ]
     },
     "execution_count": 8,
     "metadata": {},
     "output_type": "execute_result"
    },
    {
     "data": {
      "image/png": "[encoded data removed]",
      "text/plain": [
       "<Figure size 640x480 with 1 Axes>"
      ]
     },
     "metadata": {},
     "output_type": "display_data"
    }
   ],
   "source": [
    "sns.histplot(data['fare_amount'])"
   ]
  },
  {
   "cell_type": "code",
   "execution_count": 10,
   "id": "2cccd80f-42fa-49cd-ab0f-b23219e142c4",
   "metadata": {},
   "outputs": [
    {
     "data": {
      "text/plain": [
       "1.3703098964138023e-103"
      ]
     },
     "execution_count": 10,
     "metadata": {},
     "output_type": "execute_result"
    }
   ],
   "source": [
    "s,p=shapiro(data['fare_amount'])\n",
    "p"
   ]
  },
  {
   "cell_type": "markdown",
   "id": "df95be0f-5ea7-478e-8016-ebb2f14391c2",
   "metadata": {},
   "source": [
    "since p<0.05 it is not normal so we cant able to use anova rather we use its alternative ie for non parametric Kruskal–Wallis"
   ]
  },
  {
   "cell_type": "code",
   "execution_count": 11,
   "id": "3047cb46-1328-455e-b030-aabaf6e0bd92",
   "metadata": {},
   "outputs": [],
   "source": [
    "#making table 1 2 3 4 below that fare amount of those passengers\n",
    "group={\n",
    "    1:data[data['passenger_count']==1]['fare_amount'],\n",
    "    2:data[data['passenger_count']==2]['fare_amount'],\n",
    "    3:data[data['passenger_count']==3]['fare_amount'],\n",
    "    4:data[data['passenger_count']==4]['fare_amount'],\n",
    "    5:data[data['passenger_count']==5]['fare_amount']}"
   ]
  },
  {
   "cell_type": "code",
   "execution_count": 113,
   "id": "408c497d-6438-459b-ba24-12866135bc26",
   "metadata": {},
   "outputs": [
    {
     "data": {
      "text/plain": [
       "<matplotlib.lines.Line2D at 0x1a2a5289590>"
      ]
     },
     "execution_count": 113,
     "metadata": {},
     "output_type": "execute_result"
    },
    {
     "data": {
      "image/png": "[encoded data removed]",
      "text/plain": [
       "<Figure size 640x480 with 1 Axes>"
      ]
     },
     "metadata": {},
     "output_type": "display_data"
    }
   ],
   "source": [
    "sns.kdeplot(group)\n",
    "\n",
    "plt.axvline(x=np.mean(group[1]),ls='--')\n",
    "plt.axvline(x=np.mean(group[2]),ls='--',color='orange')\n",
    "plt.axvline(x=np.mean(group[3]),ls='--',color='green')\n",
    "plt.axvline(x=np.mean(group[4]),ls='--',color='red')\n",
    "plt.axvline(x=np.mean(group[5]),ls='--',color='purple')"
   ]
  },
  {
   "cell_type": "markdown",
   "id": "f548a8ed-f49d-40a3-87e1-5f58b6144832",
   "metadata": {},
   "source": [
    "H0: Passenger count has no significant effect on fare amount. (ie fares of 1 ,2, 3,4,5 passengers have same mean or distribution ie x1=x2=x3=x4=x5)\n",
    "\n",
    "H1: significant effect of passenger count on fare amount."
   ]
  },
  {
   "cell_type": "code",
   "execution_count": 39,
   "id": "f23b2959-1c9f-49c9-a01d-08d19e62d6bf",
   "metadata": {},
   "outputs": [
    {
     "name": "stdout",
     "output_type": "stream",
     "text": [
      "105792.23508407074\n",
      "Reject H0: Passenger count has a significant effect on fare amount.\n"
     ]
    }
   ],
   "source": [
    "s,p=kruskal(*group.values())\n",
    "print(s)\n",
    "alpha = 0.05\n",
    "if p < alpha:\n",
    "    print(\"Reject H0: Passenger count has a significant effect on fare amount.\")\n",
    "else:\n",
    "    print(\"Fail to Reject H0: No significant effect of passenger count on fare amount.\")"
   ]
  },
  {
   "cell_type": "markdown",
   "id": "25d00340-7647-47e0-8884-6668f57618b5",
   "metadata": {},
   "source": [
    "### 3. Do short trips generate higher fares per km than long trips?\n",
    "\n",
    "we geneate 2 samples short and long and use 2 smaple t test"
   ]
  },
  {
   "cell_type": "code",
   "execution_count": 21,
   "id": "5ada46e9-f569-4a32-93a4-a44b9d40d787",
   "metadata": {},
   "outputs": [],
   "source": [
    "data['fare_per_km'] = data['fare_amount'] / data['trip_distance']\n",
    "data['distance2']=data['trip_distance'].apply(lambda x: 'short' if x<=3 else 'long')\n",
    "\n",
    "short=data[data['distance2']=='short']['fare_per_km']\n",
    "long=data[data['distance2']=='long']['fare_per_km']"
   ]
  },
  {
   "cell_type": "code",
   "execution_count": 19,
   "id": "4dfc27b4-da47-4e2b-a463-d3d1bbcbcd5b",
   "metadata": {
    "scrolled": true
   },
   "outputs": [
    {
     "name": "stdout",
     "output_type": "stream",
     "text": [
      "1.3182303332436608e-245\n",
      "1.0500247425955107e-116\n",
      "0.0\n"
     ]
    }
   ],
   "source": [
    "#checking for normality and variance\n",
    "s1,p1=shapiro(short)\n",
    "s2,p2=shapiro(long)\n",
    "print(p1)\n",
    "print(p2)\n",
    "s,p=levene(short,long)\n",
    "print(p)"
   ]
  },
  {
   "cell_type": "markdown",
   "id": "3427ba2d-e59b-43ca-9afe-3e3a2daa2b95",
   "metadata": {},
   "source": [
    "since normality and variance are below 0.05 we cant use 2 sample t test rather we use its alternative ie mann-whitney u test\n",
    "\n",
    "h0: Short trips and long trips have the same average fare per km\n",
    "\n",
    "h1: Short trips and long trips do not have same average fare per km"
   ]
  },
  {
   "cell_type": "code",
   "execution_count": 40,
   "id": "86ebbec7-5148-4ca1-bb51-286a7c1b59e0",
   "metadata": {},
   "outputs": [
    {
     "name": "stdout",
     "output_type": "stream",
     "text": [
      "1483549830858.5\n",
      "Reject H0: Short trips and long trips do not have same average fare per km\n"
     ]
    }
   ],
   "source": [
    "u,p=mannwhitneyu(short,long)\n",
    "print(u)\n",
    "if p < alpha:\n",
    "    print(\"Reject H0: Short trips and long trips do not have same average fare per km\")\n",
    "else:\n",
    "    print(\"Fail to Reject H0: Short trips and long trips have the same average fare per km\")"
   ]
  },
  {
   "cell_type": "code",
   "execution_count": null,
   "id": "3bc72e8e-1adf-4960-9c86-1d050b1959ae",
   "metadata": {},
   "outputs": [],
   "source": []
  }
 ],
 "metadata": {
  "kernelspec": {
   "display_name": "Python 3 (ipykernel)",
   "language": "python",
   "name": "python3"
  },
  "language_info": {
   "codemirror_mode": {
    "name": "ipython",
    "version": 3
   },
   "file_extension": ".py",
   "mimetype": "text/x-python",
   "name": "python",
   "nbconvert_exporter": "python",
   "pygments_lexer": "ipython3",
   "version": "3.11.2"
  }
 },
 "nbformat": 4,
 "nbformat_minor": 5
}
