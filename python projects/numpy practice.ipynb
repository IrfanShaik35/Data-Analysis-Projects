{
 "cells": [
  {
   "cell_type": "code",
   "execution_count": 2,
   "id": "1cd7391d-21fe-48d0-9a51-a9742ec292a8",
   "metadata": {},
   "outputs": [],
   "source": [
    "import numpy as np"
   ]
  },
  {
   "cell_type": "code",
   "execution_count": 4,
   "id": "6ad54c52-5bea-403b-adb3-67253ae57b9b",
   "metadata": {},
   "outputs": [
    {
     "name": "stdout",
     "output_type": "stream",
     "text": [
      "[ 2  4  6  8 10 12 14 16 18 20]\n"
     ]
    }
   ],
   "source": [
    "\"Create a 1D NumPy array of the first 10 even numbers.\"\n",
    "a=np.array([2,4,6,8,10,12,14,16,18,20])\n",
    "print(a)"
   ]
  },
  {
   "cell_type": "code",
   "execution_count": 6,
   "id": "5c8806b2-c9ae-4664-ae35-f5f94c021cec",
   "metadata": {},
   "outputs": [
    {
     "name": "stdout",
     "output_type": "stream",
     "text": [
      "[[0 1 2]\n",
      " [3 4 5]\n",
      " [6 7 8]]\n"
     ]
    }
   ],
   "source": [
    "\"Create a 3x3 matrix with values ranging from 0 to 8\"\n",
    "a=np.matrix([[0,1,2],[3,4,5],[6,7,8]])\n",
    "print(a)"
   ]
  },
  {
   "cell_type": "code",
   "execution_count": 8,
   "id": "c0c6bf37-999d-4ad7-80a4-c2dfdf2c24a1",
   "metadata": {},
   "outputs": [
    {
     "name": "stdout",
     "output_type": "stream",
     "text": [
      "(3, 3)\n",
      "9\n",
      "int32\n"
     ]
    }
   ],
   "source": [
    "\"What is the shape, size, and dtype of the above matrix?\"\n",
    "print(a.shape)\n",
    "print(np.size(a))\n",
    "print(a.dtype)"
   ]
  },
  {
   "cell_type": "code",
   "execution_count": 11,
   "id": "750ee1e1-2612-43a0-af2c-c7941d4e5cbf",
   "metadata": {},
   "outputs": [
    {
     "name": "stdout",
     "output_type": "stream",
     "text": [
      "[[7 7 7 7 7]\n",
      " [7 7 7 7 7]\n",
      " [7 7 7 7 7]\n",
      " [7 7 7 7 7]\n",
      " [7 7 7 7 7]]\n"
     ]
    }
   ],
   "source": [
    "\"Create a 5x5 array filled with the value 7.\"\n",
    "a=np.full((5,5),7)\n",
    "print(a)"
   ]
  },
  {
   "cell_type": "code",
   "execution_count": 15,
   "id": "9b6ffb12-be4c-4ed5-955b-617ab48c518d",
   "metadata": {},
   "outputs": [
    {
     "name": "stdout",
     "output_type": "stream",
     "text": [
      "[[1. 0. 0. 0.]\n",
      " [0. 1. 0. 0.]\n",
      " [0. 0. 1. 0.]\n",
      " [0. 0. 0. 1.]]\n"
     ]
    }
   ],
   "source": [
    "\"Create an identity matrix of size 4.\"\n",
    "a=np.eye(4)\n",
    "print(a)"
   ]
  },
  {
   "cell_type": "code",
   "execution_count": 48,
   "id": "a890dbd7-4884-4b08-8338-ab10cd770214",
   "metadata": {},
   "outputs": [
    {
     "name": "stdout",
     "output_type": "stream",
     "text": [
      "[5 4 3 2 1]\n"
     ]
    }
   ],
   "source": [
    "\"Reverse a 1D array without using [::-1]\"\n",
    "a = np.array([1,2,3,4,5])\n",
    "a = np.flip(a)\n",
    "print(a)"
   ]
  },
  {
   "cell_type": "code",
   "execution_count": 26,
   "id": "276cebd5-4423-46cd-88b5-b7d7d784d2d3",
   "metadata": {},
   "outputs": [
    {
     "name": "stdout",
     "output_type": "stream",
     "text": [
      "[[[24 85 75 80]\n",
      "  [93 77 67 90]\n",
      "  [71 73 18 82]]\n",
      "\n",
      " [[20 81 79 65]\n",
      "  [62 52 32 10]\n",
      "  [74 14 95 89]]]\n"
     ]
    }
   ],
   "source": [
    "\"Create a 3D array (2x3x4) filled with random integers from 10 to 99\"\n",
    "a=np.random.randint(10,99,24)\n",
    "b=a.reshape(2,3,4)\n",
    "print(b)"
   ]
  },
  {
   "cell_type": "code",
   "execution_count": 43,
   "id": "68b40a48-f780-4f1e-b6fc-e95001165d18",
   "metadata": {},
   "outputs": [
    {
     "name": "stdout",
     "output_type": "stream",
     "text": [
      "[-1  2 -1  4 -1  6 -1  8 -1]\n"
     ]
    }
   ],
   "source": [
    "\"Replace all odd numbers in an array with -1 (in-place)\"\n",
    "a=np.array([1,2,3,4,5,6,7,8,9])\n",
    "a[a%2!=0]=-1\n",
    "print(a)"
   ]
  },
  {
   "cell_type": "code",
   "execution_count": 45,
   "id": "b7308a0c-96e7-4527-a046-a62a7f7f7dc9",
   "metadata": {},
   "outputs": [
    {
     "name": "stdout",
     "output_type": "stream",
     "text": [
      "[1 2 3 4 5 6]\n"
     ]
    }
   ],
   "source": [
    "\"Flatten a multi-dimensional array into 1D.\"\n",
    "a=np.array([[[1,2,3],[4,5,6]]])\n",
    "b=a.flatten()\n",
    "print(b)"
   ]
  },
  {
   "cell_type": "code",
   "execution_count": 49,
   "id": "17105b98-71c0-4f52-a3c8-ef557210c0e4",
   "metadata": {},
   "outputs": [
    {
     "name": "stdout",
     "output_type": "stream",
     "text": [
      "(array([0, 2, 4, 6], dtype=int64),)\n"
     ]
    }
   ],
   "source": [
    "\"Get the indices of non-zero elements from the array [1, 0, 2, 0, 3, 0, 4]\"\n",
    "a=np.array([1, 0, 2, 0, 3, 0, 4])\n",
    "b=np.where(a!=0)\n",
    "print(b)"
   ]
  },
  {
   "cell_type": "code",
   "execution_count": 52,
   "id": "216432f2-c27b-436f-b997-cf9abcc455ba",
   "metadata": {},
   "outputs": [
    {
     "name": "stdout",
     "output_type": "stream",
     "text": [
      "[ 3  7 11]\n",
      "[1 1 1]\n",
      "[ 2 12 30]\n",
      "[2.         1.33333333 1.2       ]\n"
     ]
    }
   ],
   "source": [
    "\"Create two arrays a and b of shape (3,) with values [2, 4, 6] and [1, 3, 5] respectively. Perform element-wise addition, subtraction, multiplication, and division\"\n",
    "a=np.array([2,4,6])\n",
    "b=np.array([1,3,5])\n",
    "print(a+b)\n",
    "print(a-b)\n",
    "print(a*b)\n",
    "print(a/b)"
   ]
  },
  {
   "cell_type": "code",
   "execution_count": 54,
   "id": "f15d8c3d-4b11-47a2-9dfa-57cb7ea589e6",
   "metadata": {},
   "outputs": [
    {
     "name": "stdout",
     "output_type": "stream",
     "text": [
      "[1. 2. 3. 4. 5.]\n"
     ]
    }
   ],
   "source": [
    "\"Given an array a = np.array([1, 4, 9, 16, 25]), compute the square root of each element\"\n",
    "a = np.array([1, 4, 9, 16, 25])\n",
    "print(np.sqrt(a))"
   ]
  },
  {
   "cell_type": "code",
   "execution_count": 57,
   "id": "39f4f3c1-478e-4a6e-95cf-330b366fe0e0",
   "metadata": {},
   "outputs": [
    {
     "name": "stdout",
     "output_type": "stream",
     "text": [
      "[0.0000000e+00 1.0000000e+00 1.2246468e-16]\n",
      "[ 1.000000e+00  6.123234e-17 -1.000000e+00]\n"
     ]
    }
   ],
   "source": [
    "\"Apply the sine and cosine functions to the array np.array([0, π/2, π])\"\n",
    "a=np.array([0, np.pi/2, np.pi])\n",
    "print(np.sin(a))\n",
    "print(np.cos(a))"
   ]
  },
  {
   "cell_type": "code",
   "execution_count": 60,
   "id": "6249cdc4-8a01-47df-9e22-07f35eedf2cf",
   "metadata": {},
   "outputs": [
    {
     "name": "stdout",
     "output_type": "stream",
     "text": [
      "[0.7        0.7        0.7        0.38487595 0.49045313 0.7\n",
      " 0.7        0.3        0.51147308 0.45361163]\n"
     ]
    }
   ],
   "source": [
    "\"Use NumPy to generate an array of 10 random floats between 0 and 1. Clip the values between 0.3 and 0.7.\"\n",
    "a=np.random.rand(10)\n",
    "b=np.clip(a,0.3,0.7) \n",
    "print(b)"
   ]
  },
  {
   "cell_type": "code",
   "execution_count": 63,
   "id": "772ef318-7201-448e-a802-ff6f4b603650",
   "metadata": {},
   "outputs": [
    {
     "name": "stdout",
     "output_type": "stream",
     "text": [
      "[5. 2. 9.]\n",
      "[ 6.  3. 10.]\n",
      "[ 5.  3. 10.]\n"
     ]
    }
   ],
   "source": [
    "\"Create an array [5.3, 2.8, 9.6] and apply np.floor, np.ceil, and np.round\"\n",
    "a=np.array([5.3, 2.8, 9.6])\n",
    "print(np.floor(a))\n",
    "print(np.ceil(a))\n",
    "print(np.round(a))"
   ]
  },
  {
   "cell_type": "code",
   "execution_count": 68,
   "id": "6f97d5da-7608-4278-8dab-0a93892800a8",
   "metadata": {},
   "outputs": [
    {
     "name": "stdout",
     "output_type": "stream",
     "text": [
      "45\n",
      "5.0\n",
      "2.581988897471611\n"
     ]
    }
   ],
   "source": [
    "\"Create a 2D array a of shape (3,3) filled with values 1 to 9. Calculate the sum, mean, and standard deviation of the entire array.\"\n",
    "a=np.array([1,2,3,4,5,6,7,8,9])\n",
    "a=a.reshape(3,3)\n",
    "print(np.sum(a))\n",
    "print(np.mean(a))\n",
    "print(np.std(a))"
   ]
  },
  {
   "cell_type": "code",
   "execution_count": 71,
   "id": "314eab6d-12c1-4d42-be78-a5c6dcc53247",
   "metadata": {},
   "outputs": [
    {
     "name": "stdout",
     "output_type": "stream",
     "text": [
      "[ 6 15 24]\n",
      "[12 15 18]\n"
     ]
    }
   ],
   "source": [
    "\"Using the same array from Q6, calculate the sum along: Rows (axis=1) and Columns (axis=0)\"\n",
    "a=np.array([1,2,3,4,5,6,7,8,9])\n",
    "a=a.reshape(3,3)\n",
    "print(np.sum(a,axis=1))\n",
    "print(np.sum(a,axis=0))"
   ]
  },
  {
   "cell_type": "code",
   "execution_count": 76,
   "id": "77676418-7683-47f7-9edf-3d621dc5ba68",
   "metadata": {},
   "outputs": [
    {
     "name": "stdout",
     "output_type": "stream",
     "text": [
      "(array([0], dtype=int64),)\n",
      "(array([4], dtype=int64),)\n"
     ]
    }
   ],
   "source": [
    "\"Given an array a = np.array([10, 20, 30, 40, 50]), find the index of the minimum and maximum values.\"\n",
    "a = np.array([10, 20, 30, 40, 50])\n",
    "b=np.where(a==np.min(a))\n",
    "print(b)\n",
    "c=np.where(a==np.max(a))\n",
    "print(c)"
   ]
  },
  {
   "cell_type": "code",
   "execution_count": 78,
   "id": "aead8bb0-f2bf-4ee0-a388-f161dc3a173f",
   "metadata": {},
   "outputs": [
    {
     "name": "stdout",
     "output_type": "stream",
     "text": [
      "[25 30]\n"
     ]
    }
   ],
   "source": [
    "\"Given an array a = np.array([10, 15, 20, 25, 30]), filter and print only the values greater than 20.\"\n",
    "a = np.array([10, 15, 20, 25, 30])\n",
    "print(a[a>20])"
   ]
  },
  {
   "cell_type": "code",
   "execution_count": 89,
   "id": "50a2cce1-d328-4bcc-904c-49063ff8c3eb",
   "metadata": {},
   "outputs": [
    {
     "name": "stdout",
     "output_type": "stream",
     "text": [
      "[0 0 7 7 0 5]\n"
     ]
    }
   ],
   "source": [
    "\"Create an array of 6 random integers between 0 and 10. Replace all values less than 5 with 0 (in-place)\"\n",
    "a=np.random.randint(0,10,6)\n",
    "a[a<5]=0\n",
    "print(a)"
   ]
  },
  {
   "cell_type": "code",
   "execution_count": 93,
   "id": "9e7175f5-985d-4683-b33c-20605b8ab238",
   "metadata": {},
   "outputs": [
    {
     "name": "stdout",
     "output_type": "stream",
     "text": [
      "[[ 6  7  8]\n",
      " [ 9 10 11]\n",
      " [12 13 14]]\n"
     ]
    }
   ],
   "source": [
    "\"Create a 3x3 array with values from 1 to 9. Add 5 to every element using broadcasting\"\n",
    "a=np.array([1,2,3,4,5,6,7,8,9])\n",
    "b=a.reshape(3,3)\n",
    "c=np.array([5])\n",
    "print(b+c)"
   ]
  },
  {
   "cell_type": "code",
   "execution_count": 118,
   "id": "5ed145f2-6e2c-408b-bd94-3c53067c865b",
   "metadata": {},
   "outputs": [
    {
     "name": "stdout",
     "output_type": "stream",
     "text": [
      "[[-3. -3. -3.]\n",
      " [ 0.  0.  0.]\n",
      " [ 3.  3.  3.]]\n"
     ]
    }
   ],
   "source": [
    "\"Given a 3x3 array, subtract the mean of each column from the respective column using broadcasting\"\n",
    "a=np.array([1,2,3,4,5,6,7,8,9]).reshape(3,3)\n",
    "b=np.mean(a,axis=0).reshape(1,3)\n",
    "print(np.subtract(a,b))"
   ]
  },
  {
   "cell_type": "code",
   "execution_count": 120,
   "id": "a5e96788-dc0d-4ac2-8818-ff2d90ec61a4",
   "metadata": {},
   "outputs": [
    {
     "name": "stdout",
     "output_type": "stream",
     "text": [
      "[[  1   2   3]\n",
      " [  4   5 100]\n",
      " [100 100 100]]\n"
     ]
    }
   ],
   "source": [
    "\"Create a 3x3 array. Replace all values greater than 5 with 100 using boolean indexing\"\n",
    "a=np.array([1,2,3,4,5,6,7,8,9]).reshape(3,3)\n",
    "a[a>5]=100\n",
    "print(a)"
   ]
  },
  {
   "cell_type": "code",
   "execution_count": 125,
   "id": "3b679b2d-20dc-427c-9fc7-b9bf32a5c562",
   "metadata": {},
   "outputs": [
    {
     "name": "stdout",
     "output_type": "stream",
     "text": [
      "10 30 50\n",
      "[10 30 50]\n"
     ]
    }
   ],
   "source": [
    "\"Given an array a = np.array([10, 20, 30, 40, 50]), extract the elements at positions 0, 2, and 4 using fancy indexing.\"\n",
    "a = np.array([10, 20, 30, 40, 50])\n",
    "#simple indexing\n",
    "print(a[0],a[2],a[4]) \n",
    "#fancy indexing\n",
    "b=[0,2,4] \n",
    "print(a[b])"
   ]
  },
  {
   "cell_type": "code",
   "execution_count": 127,
   "id": "a8ac49aa-ac9a-49d2-89b2-1c2e04e75ec8",
   "metadata": {},
   "outputs": [
    {
     "name": "stdout",
     "output_type": "stream",
     "text": [
      "[ 10 -99  30 -99  50]\n"
     ]
    }
   ],
   "source": [
    "'Using the same array from Q4, set the elements at index positions [1, 3] to -99 using fancy indexing.'\n",
    "a = np.array([10, 20, 30, 40, 50])\n",
    "b=[1,3]\n",
    "a[b]=-99\n",
    "print(a)"
   ]
  },
  {
   "cell_type": "code",
   "execution_count": 134,
   "id": "1f490645-175a-4ce1-a51d-f21dbba712f9",
   "metadata": {},
   "outputs": [
    {
     "name": "stdout",
     "output_type": "stream",
     "text": [
      "[ 0  5 10 15]\n"
     ]
    }
   ],
   "source": [
    "'Create a 4x4 array filled with values from 0 to 15. Extract the diagonal elements using indexing'\n",
    "a=np.arange(0,16).reshape(4,4)\n",
    "print(np.diag(a))"
   ]
  },
  {
   "cell_type": "code",
   "execution_count": 147,
   "id": "6d24d537-4296-4fbe-8994-f3f6a911bc9b",
   "metadata": {},
   "outputs": [
    {
     "name": "stdout",
     "output_type": "stream",
     "text": [
      "[5 6 7 8 9]\n",
      "[ 2  7 12 17 22]\n"
     ]
    }
   ],
   "source": [
    "'Given a 2D array of shape (5,5), extract all the elements in the second row and third column'\n",
    "a=np.arange(25).reshape(5,5)\n",
    "print(a[1,0:5])\n",
    "print(a[0:5,2])"
   ]
  },
  {
   "cell_type": "code",
   "execution_count": 150,
   "id": "1e760d20-c232-40fa-a015-59595bfafda1",
   "metadata": {},
   "outputs": [
    {
     "name": "stdout",
     "output_type": "stream",
     "text": [
      "[1 2 3]\n",
      "[ 1 20  3]\n"
     ]
    }
   ],
   "source": [
    "'Explain with code: difference between .copy() and just assigning an array slice. Show that modifying a slice also modifies the original array unless .copy() is used.'\n",
    "a=np.array([1,2,3])\n",
    "b=a.copy()\n",
    "b[1]=20\n",
    "print(a)\n",
    "print(b)"
   ]
  },
  {
   "cell_type": "code",
   "execution_count": 158,
   "id": "95125d27-e1b9-4dee-8f49-449037919565",
   "metadata": {},
   "outputs": [
    {
     "name": "stdout",
     "output_type": "stream",
     "text": [
      "[ 0  5 10 15]\n",
      "[ 0  5 10 15]\n"
     ]
    }
   ],
   "source": [
    "'Use advanced indexing to extract elements at positions (0,0), (1,1), (2,2), (3,3) from a 2D 4x4 array of values from 0 to 15.'\n",
    "a=np.arange(0,16).reshape(4,4)\n",
    "print(np.diag(a))\n",
    "#or\n",
    "print(a[[0,1,2,3], [0,1,2,3]])\n"
   ]
  },
  {
   "cell_type": "code",
   "execution_count": 159,
   "id": "c717d9be-7c7d-4f2b-8ec6-c555170f83fe",
   "metadata": {},
   "outputs": [
    {
     "name": "stdout",
     "output_type": "stream",
     "text": [
      "[ 1 -1  1 -1  1 -1  1 -1  1 -1]\n"
     ]
    }
   ],
   "source": [
    "'Create a 1D array of length 10 and set all even-indexed positions to 1 and all odd-indexed positions to -1 using slicing.'\n",
    "a=np.arange(10)\n",
    "a[::2]=1\n",
    "a[1::2]=-1\n",
    "print(a)"
   ]
  },
  {
   "cell_type": "code",
   "execution_count": 164,
   "id": "7b4d48de-e3bc-421e-b7cf-0087c8678a00",
   "metadata": {},
   "outputs": [
    {
     "name": "stdout",
     "output_type": "stream",
     "text": [
      "[10 20 30 40]\n",
      "[1 0 3 2]\n"
     ]
    }
   ],
   "source": [
    "'Given a = np.array([20, 10, 40, 30]), sort the array in ascending order and return both: The sorted array and The original indices that would sort the array (argsort)'\n",
    "a = np.array([20, 10, 40, 30])\n",
    "print(np.sort(a))\n",
    "print(np.argsort(a))"
   ]
  },
  {
   "cell_type": "code",
   "execution_count": 166,
   "id": "36a7941b-8976-4a67-a9ec-7c20f9fac711",
   "metadata": {},
   "outputs": [
    {
     "name": "stdout",
     "output_type": "stream",
     "text": [
      "[ 0  0 15 20 25]\n"
     ]
    }
   ],
   "source": [
    "'Given a = np.array([5, 10, 15, 20, 25]), use np.where to: Replace values less than 15 with 0 and Keep values >= 15 unchanged'\n",
    "a = np.array([5, 10, 15, 20, 25])\n",
    "a[np.where(a<15)]=0\n",
    "print(a)\n"
   ]
  },
  {
   "cell_type": "code",
   "execution_count": 171,
   "id": "4baa87fa-3d8e-4dd5-a5f5-c5042012a684",
   "metadata": {},
   "outputs": [
    {
     "name": "stdout",
     "output_type": "stream",
     "text": [
      "(array([1, 2, 3, 4, 5]), array([1, 2, 1, 3, 1], dtype=int64))\n"
     ]
    }
   ],
   "source": [
    "'Given an array a = np.array([1, 2, 2, 3, 4, 4, 4, 5]), find: All unique elements and The count of each unique element'\n",
    "a = np.array([1, 2, 2, 3, 4, 4, 4, 5])\n",
    "b=np.unique(a,return_counts=True)\n",
    "print(b)"
   ]
  },
  {
   "cell_type": "code",
   "execution_count": 178,
   "id": "50506ea8-868c-479d-a1c0-56469834e3ba",
   "metadata": {},
   "outputs": [
    {
     "name": "stdout",
     "output_type": "stream",
     "text": [
      "[1 2 3 4 5 6]\n",
      "[3 4]\n",
      "[1 2]\n",
      "[1 2 5 6]\n"
     ]
    }
   ],
   "source": [
    "'perform opertions: Intersection, Union, Elements in a but not in b (set difference) and Elements in either a or b but not both (symmetric difference)'\n",
    "a = np.array([1, 2, 3, 4])\n",
    "b = np.array([3, 4, 5, 6])\n",
    "print(np.union1d(a,b))\n",
    "print(np.intersect1d(a,b))\n",
    "print(np.setdiff1d(a,b))\n",
    "print(np.setxor1d(a,b))"
   ]
  },
  {
   "cell_type": "code",
   "execution_count": 180,
   "id": "0e88c9c6-82b7-4ff4-b9b2-764d2edf9e74",
   "metadata": {},
   "outputs": [
    {
     "name": "stdout",
     "output_type": "stream",
     "text": [
      "[ 32.   68.   98.6 212. ]\n"
     ]
    }
   ],
   "source": [
    "'Given an array of temperatures in Celsius, convert to Fahrenheit using a vectorized approach'\n",
    "'''We've used the concept of vectorization many times in NumPy. It refers to performing element-wise operations on arrays.\n",
    "array1 = np.array([1, 2, 3, 4, 5 ])\n",
    "number = 10\n",
    "result = array1 + number\n",
    "print(result)'''\n",
    "celsius = np.array([0, 20, 37, 100])\n",
    "print((celsius*1.8)+32)"
   ]
  },
  {
   "cell_type": "code",
   "execution_count": 182,
   "id": "846e09a8-d573-48d5-81bd-ed1fc047668c",
   "metadata": {},
   "outputs": [
    {
     "name": "stdout",
     "output_type": "stream",
     "text": [
      "[1 2 3 4 5 6]\n",
      "[[1 2 3]\n",
      " [4 5 6]]\n"
     ]
    }
   ],
   "source": [
    "'Given two arrays a = np.array([1, 2, 3]), b = np.array([4, 5, 6]), stack them: Vertically and Horizontally'\n",
    "a = np.array([1, 2, 3])\n",
    "b = np.array([4, 5, 6])\n",
    "print(np.hstack([a,b]))\n",
    "print(np.vstack([a,b]))"
   ]
  },
  {
   "cell_type": "code",
   "execution_count": 208,
   "id": "26cf4037-4a27-4fd7-a947-3c1ba93f6d99",
   "metadata": {},
   "outputs": [
    {
     "name": "stdout",
     "output_type": "stream",
     "text": [
      "[[ 8  9 10 11]\n",
      " [12 13 14 15]\n",
      " [ 4  5  6  7]\n",
      " [ 0  1  2  3]]\n"
     ]
    }
   ],
   "source": [
    "'Create a 4x4 array with values from 0 to 15 and shuffle all rows randomly (not columns)'\n",
    "a=np.arange(16).reshape(4,4)\n",
    "np.random.shuffle(a)\n",
    "print(a)"
   ]
  },
  {
   "cell_type": "code",
   "execution_count": 209,
   "id": "d6aa188f-2dc6-4f2d-a8a7-0bd818502c14",
   "metadata": {},
   "outputs": [
    {
     "name": "stdout",
     "output_type": "stream",
     "text": [
      "['odd' 'even' 'odd' 'even' 'odd' 'even' 'odd' 'even' 'odd']\n"
     ]
    }
   ],
   "source": [
    "'Write a function that returns \"even\" if a number is even, and \"odd\" if it is odd. Apply it to an array of numbers using np.vectorize.'\n",
    "def odd_even(x):\n",
    "    if x%2==0:\n",
    "        return 'even'\n",
    "    else:\n",
    "        return 'odd'\n",
    "oe=np.vectorize(odd_even)\n",
    "a=np.array([1,2,3,4,5,6,7,8,9])\n",
    "print(oe(a))"
   ]
  },
  {
   "cell_type": "code",
   "execution_count": 220,
   "id": "2ab88873-81a8-466c-a01f-7dbfac1fd480",
   "metadata": {},
   "outputs": [
    {
     "name": "stdout",
     "output_type": "stream",
     "text": [
      "3.25\n",
      "[1.   2.   3.25 4.   3.25 6.  ]\n"
     ]
    }
   ],
   "source": [
    "'Find the indices of NaN values and Replace all NaNs with the mean of the non-NaN values'\n",
    "a = np.array([1, 2, np.nan, 4, np.nan, 6])\n",
    "nan_mask = np.isnan(a)\n",
    "mean_val = np.nanmean(a)  \n",
    "a[nan_mask] = mean_val\n",
    "print(a)"
   ]
  },
  {
   "cell_type": "code",
   "execution_count": 218,
   "id": "e6ddde62-81e9-4751-97f9-d32d60ee64d6",
   "metadata": {},
   "outputs": [
    {
     "name": "stdout",
     "output_type": "stream",
     "text": [
      "[[-0.70710678 -0.39223227 -0.9258201  -0.21997067]\n",
      " [-0.70710678  1.37281295  1.38873015  1.31982404]\n",
      " [ 1.41421356 -0.98058068 -0.46291005 -1.09985336]]\n"
     ]
    }
   ],
   "source": [
    "'Create a 2D array of shape (3,4) filled with random integers. Normalize the array column-wise (subtract mean and divide by std for each column)'\n",
    "a=np.random.randint(1,20,12).reshape(3,4)\n",
    "b=np.mean(a,axis=0).reshape(1,4)\n",
    "c=np.std(a,axis=0).reshape(1,4)\n",
    "d=np.subtract(a,b)\n",
    "print(np.divide(d,c))"
   ]
  }
 ],
 "metadata": {
  "kernelspec": {
   "display_name": "Python 3 (ipykernel)",
   "language": "python",
   "name": "python3"
  },
  "language_info": {
   "codemirror_mode": {
    "name": "ipython",
    "version": 3
   },
   "file_extension": ".py",
   "mimetype": "text/x-python",
   "name": "python",
   "nbconvert_exporter": "python",
   "pygments_lexer": "ipython3",
   "version": "3.11.2"
  }
 },
 "nbformat": 4,
 "nbformat_minor": 5
}
