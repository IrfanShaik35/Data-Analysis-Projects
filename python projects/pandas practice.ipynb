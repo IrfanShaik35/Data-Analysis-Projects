{
 "cells": [
  {
   "cell_type": "code",
   "execution_count": 6,
   "id": "ac10876c-97c8-48d3-a740-cb5b1c2beffc",
   "metadata": {},
   "outputs": [],
   "source": [
    "import pandas as pd"
   ]
  },
  {
   "cell_type": "markdown",
   "id": "b0a21e95-d352-4413-983c-1be5744f24d3",
   "metadata": {},
   "source": [
    "# SERIES AND DATAFRAMES BASICS"
   ]
  },
  {
   "cell_type": "code",
   "execution_count": 7,
   "id": "82137aef-3170-4ace-bf0a-e5775aa7142e",
   "metadata": {},
   "outputs": [
    {
     "name": "stdout",
     "output_type": "stream",
     "text": [
      "a    10\n",
      "b    20\n",
      "c    30\n",
      "d    40\n",
      "dtype: int64\n"
     ]
    }
   ],
   "source": [
    "#Create a Pandas Series from the list [10, 20, 30, 40] with custom indices: 'a', 'b', 'c', 'd' \n",
    "a=[10, 20, 30, 40]\n",
    "b=pd.Series(a,index=['a', 'b', 'c', 'd'])\n",
    "print(b)"
   ]
  },
  {
   "cell_type": "code",
   "execution_count": 8,
   "id": "91d253ca-7d91-4b00-a2ee-df2cec14d5db",
   "metadata": {},
   "outputs": [
    {
     "name": "stdout",
     "output_type": "stream",
     "text": [
      "92\n"
     ]
    }
   ],
   "source": [
    "#Create a Series from a dictionary: {'Math': 88, 'Science': 92, 'English': 85} and access the value for 'Science' \n",
    "a={'Math': 88, 'Science': 92, 'English': 85}\n",
    "b=pd.Series(a)\n",
    "print(b['Science'])"
   ]
  },
  {
   "cell_type": "code",
   "execution_count": 23,
   "id": "4282dd52-5644-45d3-a173-8f7a5f3c0582",
   "metadata": {},
   "outputs": [
    {
     "name": "stdout",
     "output_type": "stream",
     "text": [
      "   ID     Name  Score\n",
      "0   1    Alice     85\n",
      "1   2      Bob     90\n",
      "2   3  Charlie     78\n"
     ]
    }
   ],
   "source": [
    "#Convert the following list of lists into a DataFrame with appropriate column names: 'ID', 'Name', 'Score'\n",
    "data = [[1, 'Alice', 85], [2, 'Bob', 90], [3, 'Charlie', 78]]\n",
    "df=pd.DataFrame(data,columns=['ID', 'Name', 'Score'])\n",
    "print(df)"
   ]
  },
  {
   "cell_type": "code",
   "execution_count": 25,
   "id": "e1af5b6f-359f-458f-8ff1-7270abe87188",
   "metadata": {},
   "outputs": [
    {
     "name": "stdout",
     "output_type": "stream",
     "text": [
      "    Name  Age    City\n",
      "0    Tom   22   Delhi\n",
      "1  Jerry   23  Mumbai\n"
     ]
    }
   ],
   "source": [
    "#Create a DataFrame from a dictionary\n",
    "data = {'Name': ['Tom', 'Jerry'], 'Age': [22, 23], 'City': ['Delhi', 'Mumbai']}\n",
    "df=pd.DataFrame(data)\n",
    "print(df)"
   ]
  },
  {
   "cell_type": "code",
   "execution_count": 30,
   "id": "ea4b0340-a5ca-4af6-b6e2-96bab6a5c543",
   "metadata": {},
   "outputs": [
    {
     "name": "stdout",
     "output_type": "stream",
     "text": [
      "    0   1   2\n",
      "0  20  82  93\n",
      "1  55  61   7\n",
      "2  78   8  33\n",
      "3  72  68  90\n",
      "4  17  66  91\n"
     ]
    }
   ],
   "source": [
    "#Create a DataFrame with 5 rows and 3 columns filled with random integers from 1 to 100\n",
    "import numpy as np\n",
    "a=np.random.randint(1,100,15).reshape(5,3)\n",
    "df=pd.DataFrame(a)\n",
    "print(df)"
   ]
  },
  {
   "cell_type": "code",
   "execution_count": 35,
   "id": "a4454bf3-503c-4736-b17d-6ab31bd6d904",
   "metadata": {},
   "outputs": [
    {
     "name": "stdout",
     "output_type": "stream",
     "text": [
      "    0   1   2\n",
      "0  99  79  27\n",
      "1   5  81  84\n",
      "2  45  48   9\n",
      "    0   1   2\n",
      "3  72  10  18\n",
      "4  42  17  34\n",
      "(5, 3)\n",
      "               0         1          2\n",
      "count   5.000000   5.00000   5.000000\n",
      "mean   52.600000  47.00000  34.400000\n",
      "std    35.232088  33.35416  29.279686\n",
      "min     5.000000  10.00000   9.000000\n",
      "25%    42.000000  17.00000  18.000000\n",
      "50%    45.000000  48.00000  27.000000\n",
      "75%    72.000000  79.00000  34.000000\n",
      "max    99.000000  81.00000  84.000000\n"
     ]
    }
   ],
   "source": [
    "#From any DataFrame, print: First 3 rows,Last 2 rows,Shape of the DataFrame and Summary statistics using .describe()\n",
    "import numpy as np\n",
    "a=np.random.randint(1,100,15).reshape(5,3)\n",
    "df=pd.DataFrame(a)\n",
    "print(df.head(3))\n",
    "print(df.tail(2))\n",
    "print(df.shape)\n",
    "print(df.describe())"
   ]
  },
  {
   "cell_type": "code",
   "execution_count": 39,
   "id": "87f286a5-007c-4de6-bef7-8496fc0b54cf",
   "metadata": {},
   "outputs": [
    {
     "name": "stdout",
     "output_type": "stream",
     "text": [
      "   Alpha   B   C\n",
      "0     76  83  22\n",
      "1     88  17  52\n",
      "2     67  23  46\n",
      "3     79  15  22\n",
      "4     75   2  51\n"
     ]
    }
   ],
   "source": [
    "#In a DataFrame with columns ['A', 'B', 'C'], rename column 'A' to 'Alpha'\n",
    "a=np.random.randint(1,100,15).reshape(5,3)\n",
    "df=pd.DataFrame(a,columns=['A', 'B', 'C'])\n",
    "df.rename(columns={'A':'Alpha'},inplace=True)\n",
    "print(df)"
   ]
  },
  {
   "cell_type": "code",
   "execution_count": 51,
   "id": "6d4c9f66-dd0f-47f9-9e20-90654083576a",
   "metadata": {},
   "outputs": [
    {
     "name": "stdout",
     "output_type": "stream",
     "text": [
      "    A   B   C Grade\n",
      "0  49  90  99     B\n",
      "1   4  60  66     C\n",
      "2  34  26  68     A\n",
      "3  89  43  24     A\n",
      "4  96  48  22     B\n"
     ]
    }
   ],
   "source": [
    "#Add a new column 'Grade' to a DataFrame with 5 random grades (A, B, C) of your choice\n",
    "a=np.random.randint(1,100,15).reshape(5,3)\n",
    "df=pd.DataFrame(a,columns=['A', 'B', 'C'])\n",
    "df.insert(3,'Grade',['B','C','A','A','B'])\n",
    "print(df)"
   ]
  },
  {
   "cell_type": "code",
   "execution_count": 54,
   "id": "b26acc77-5061-45fe-ae9c-43061bb1f0ab",
   "metadata": {},
   "outputs": [
    {
     "name": "stdout",
     "output_type": "stream",
     "text": [
      "    Name  Age\n",
      "0    Tom   22\n",
      "1  Jerry   23\n"
     ]
    }
   ],
   "source": [
    "#Drop the column 'City' from the DataFrame you created in Q4.\n",
    "data = {'Name': ['Tom', 'Jerry'], 'Age': [22, 23], 'City': ['Delhi', 'Mumbai']}\n",
    "df=pd.DataFrame(data)\n",
    "df.drop('City',axis=1,inplace=True)\n",
    "print(df)"
   ]
  },
  {
   "cell_type": "code",
   "execution_count": 56,
   "id": "8a6c2d50-07bf-414f-9b38-90ee6845915a",
   "metadata": {},
   "outputs": [
    {
     "name": "stdout",
     "output_type": "stream",
     "text": [
      "   ID     Name  Score\n",
      "0   1    Alice     85\n",
      "2   3  Charlie     78\n"
     ]
    }
   ],
   "source": [
    "#Delete the 2nd row (index 1) from the DataFrame you created in Q3.\n",
    "data = [[1, 'Alice', 85], [2, 'Bob', 90], [3, 'Charlie', 78]]\n",
    "df=pd.DataFrame(data,columns=['ID', 'Name', 'Score'])\n",
    "df.drop(1,inplace=True)\n",
    "print(df)"
   ]
  },
  {
   "cell_type": "markdown",
   "id": "dd788d91-dcdc-424d-ae33-1590e63fa8fb",
   "metadata": {},
   "source": [
    "# INDEXING, FILTERING AND SELECTION"
   ]
  },
  {
   "cell_type": "code",
   "execution_count": 94,
   "id": "a922d836-2466-4255-a4f2-1dd19d315dfd",
   "metadata": {},
   "outputs": [
    {
     "name": "stdout",
     "output_type": "stream",
     "text": [
      "      Name  Age  Score\n",
      "2  Charlie   35     78\n",
      "4      Eva   45     88\n",
      "      Name  Age  Score\n",
      "2  Charlie   35     78\n",
      "4      Eva   45     88\n"
     ]
    }
   ],
   "source": [
    "#using .loc[] and boolean filtering, select the rows where Name is 'Charlie' or 'Eva'.\n",
    "data = {\n",
    "    'Name': ['Alice', 'Bob', 'Charlie', 'David', 'Eva'],\n",
    "    'Age': [25, 30, 35, 40, 45],\n",
    "    'Score': [85, 90, 78, 92, 88]\n",
    "}\n",
    "df=pd.DataFrame(data)\n",
    "print(df.loc[[2,4]])\n",
    "\n",
    "#boolean filtering\n",
    "print(df[df['Name'].isin(['Charlie', 'Eva'])])"
   ]
  },
  {
   "cell_type": "code",
   "execution_count": 63,
   "id": "76c8d8a2-7558-4ae1-b570-0b900ec9864a",
   "metadata": {},
   "outputs": [
    {
     "name": "stdout",
     "output_type": "stream",
     "text": [
      "      Name  Age  Score\n",
      "0    Alice   25     85\n",
      "1      Bob   30     90\n",
      "2  Charlie   35     78\n"
     ]
    }
   ],
   "source": [
    "#Using the same DataFrame, select the first 3 rows using .iloc[]\n",
    "data = {\n",
    "    'Name': ['Alice', 'Bob', 'Charlie', 'David', 'Eva'],\n",
    "    'Age': [25, 30, 35, 40, 45],\n",
    "    'Score': [85, 90, 78, 92, 88]\n",
    "}\n",
    "df=pd.DataFrame(data)\n",
    "print(df.iloc[0:3])"
   ]
  },
  {
   "cell_type": "code",
   "execution_count": 67,
   "id": "631428e6-bdfc-4b69-851f-c9c787304cee",
   "metadata": {},
   "outputs": [
    {
     "name": "stdout",
     "output_type": "stream",
     "text": [
      "    Name  Score\n",
      "3  David     92\n",
      "4    Eva     88\n"
     ]
    }
   ],
   "source": [
    "#Select only the 'Name' and 'Score' columns for the last 2 rows using .iloc[]\n",
    "data = {\n",
    "    'Name': ['Alice', 'Bob', 'Charlie', 'David', 'Eva'],\n",
    "    'Age': [25, 30, 35, 40, 45],\n",
    "    'Score': [85, 90, 78, 92, 88]\n",
    "}\n",
    "df=pd.DataFrame(data)\n",
    "print(df.iloc[3:5,[0,2]])"
   ]
  },
  {
   "cell_type": "code",
   "execution_count": 70,
   "id": "6089ea72-7c45-476e-b832-d2ebaff1a09f",
   "metadata": {},
   "outputs": [
    {
     "name": "stdout",
     "output_type": "stream",
     "text": [
      "      Name  Age  Score\n",
      "2  Charlie   35     78\n",
      "3    David   40     92\n",
      "4      Eva   45     88\n"
     ]
    }
   ],
   "source": [
    "#Filter and display rows where Age > 30\n",
    "data = {\n",
    "    'Name': ['Alice', 'Bob', 'Charlie', 'David', 'Eva'],\n",
    "    'Age': [25, 30, 35, 40, 45],\n",
    "    'Score': [85, 90, 78, 92, 88]\n",
    "}\n",
    "df=pd.DataFrame(data)\n",
    "print(df[df['Age']>30])"
   ]
  },
  {
   "cell_type": "code",
   "execution_count": 73,
   "id": "b345732c-8315-4081-874e-c3f0aeaab92b",
   "metadata": {},
   "outputs": [
    {
     "name": "stdout",
     "output_type": "stream",
     "text": [
      "  Name  Age  Score\n",
      "1  Bob   30     90\n"
     ]
    }
   ],
   "source": [
    "#Filter and display rows where Score >= 90 and Age < 40\n",
    "data = {\n",
    "    'Name': ['Alice', 'Bob', 'Charlie', 'David', 'Eva'],\n",
    "    'Age': [25, 30, 35, 40, 45],\n",
    "    'Score': [85, 90, 78, 92, 88]\n",
    "}\n",
    "df=pd.DataFrame(data)\n",
    "print(df[(df['Age']<40) & (df['Score']>=90)])"
   ]
  },
  {
   "cell_type": "code",
   "execution_count": 95,
   "id": "55a4362a-dbad-4651-a4c6-eed72258fe12",
   "metadata": {},
   "outputs": [
    {
     "name": "stdout",
     "output_type": "stream",
     "text": [
      "      Name  Age  Score\n",
      "0    Alice   25     85\n",
      "1      Bob   30     90\n",
      "2  Charlie   35     78\n",
      "3    David   40    100\n",
      "4      Eva   45     88\n",
      "      Name  Age  Score\n",
      "0    Alice   25     85\n",
      "1      Bob   30     90\n",
      "2  Charlie   35     78\n",
      "3    David   40    100\n",
      "4      Eva   45     88\n"
     ]
    }
   ],
   "source": [
    "#Change the value of Score to 100 for the row where Name == 'David'\n",
    "data = {\n",
    "    'Name': ['Alice', 'Bob', 'Charlie', 'David', 'Eva'],\n",
    "    'Age': [25, 30, 35, 40, 45],\n",
    "    'Score': [85, 90, 78, 92, 88]\n",
    "}\n",
    "df=pd.DataFrame(data)\n",
    "df['Score']=df.apply(lambda x: 100 if x.Name=='David' else x.Score,axis=1 )\n",
    "print(df)\n",
    "\n",
    "#or (using iloc)\n",
    "df.loc[df['Name'] == 'David', 'Score'] = 100\n",
    "print(df)"
   ]
  },
  {
   "cell_type": "code",
   "execution_count": 96,
   "id": "9cdf2b60-56d5-49ec-827e-bcd1cfb787b2",
   "metadata": {},
   "outputs": [
    {
     "name": "stdout",
     "output_type": "stream",
     "text": [
      "      Name  Age  Score Passed\n",
      "0    Alice   25     85    Yes\n",
      "1      Bob   30     90    Yes\n",
      "2  Charlie   35     78     No\n",
      "3    David   40     92    Yes\n",
      "4      Eva   45     88    Yes\n",
      "      Name  Age  Score Passed\n",
      "0    Alice   25     85    Yes\n",
      "1      Bob   30     90    Yes\n",
      "2  Charlie   35     78     No\n",
      "3    David   40     92    Yes\n",
      "4      Eva   45     88    Yes\n"
     ]
    }
   ],
   "source": [
    "#Add a new column 'Passed' where value should be 'Yes' if Score >= 80 else 'No'\n",
    "data = {\n",
    "    'Name': ['Alice', 'Bob', 'Charlie', 'David', 'Eva'],\n",
    "    'Age': [25, 30, 35, 40, 45],\n",
    "    'Score': [85, 90, 78, 92, 88]\n",
    "}\n",
    "df=pd.DataFrame(data)\n",
    "df['Passed']=df.apply(lambda x: 'Yes' if x.Score>=80 else 'No',axis=1 )\n",
    "print(df)\n",
    "\n",
    "#or (using numpy where)\n",
    "import numpy as np\n",
    "df['Passed'] = np.where(df['Score'] >= 80, 'Yes', 'No')\n",
    "print(df)"
   ]
  },
  {
   "cell_type": "code",
   "execution_count": 98,
   "id": "9b117a03-ea6d-40f6-b789-60f7dba00e1a",
   "metadata": {},
   "outputs": [
    {
     "name": "stdout",
     "output_type": "stream",
     "text": [
      "         Age  Score\n",
      "Name               \n",
      "Alice     25     85\n",
      "Bob       30     90\n",
      "Charlie   35     78\n",
      "David     40     92\n",
      "Eva       45     88\n"
     ]
    }
   ],
   "source": [
    "#Set the 'Name' column as the index of the DataFrame\n",
    "data = {\n",
    "    'Name': ['Alice', 'Bob', 'Charlie', 'David', 'Eva'],\n",
    "    'Age': [25, 30, 35, 40, 45],\n",
    "    'Score': [85, 90, 78, 92, 88]\n",
    "}\n",
    "df=pd.DataFrame(data)\n",
    "df.set_index('Name',inplace=True)\n",
    "print(df)"
   ]
  },
  {
   "cell_type": "code",
   "execution_count": 90,
   "id": "d8a72444-83a4-49f6-ad50-6f0d8b6e1447",
   "metadata": {},
   "outputs": [
    {
     "name": "stdout",
     "output_type": "stream",
     "text": [
      "Age      30\n",
      "Score    90\n",
      "Name: Bob, dtype: int64\n"
     ]
    }
   ],
   "source": [
    "#After setting 'Name' as index, retrieve the row for 'Bob' using .loc[]\n",
    "data = {\n",
    "    'Name': ['Alice', 'Bob', 'Charlie', 'David', 'Eva'],\n",
    "    'Age': [25, 30, 35, 40, 45],\n",
    "    'Score': [85, 90, 78, 92, 88]\n",
    "}\n",
    "df=pd.DataFrame(data)\n",
    "df.set_index('Name',inplace=True)\n",
    "print(df.loc['Bob'])"
   ]
  },
  {
   "cell_type": "code",
   "execution_count": 92,
   "id": "1f8eb726-7a6b-456b-9083-60ccd7d657a1",
   "metadata": {},
   "outputs": [
    {
     "name": "stdout",
     "output_type": "stream",
     "text": [
      "      Name  Age  Score\n",
      "0    Alice   25     85\n",
      "1      Bob   30     90\n",
      "2  Charlie   35     78\n",
      "3    David   40     92\n",
      "4      Eva   45     88\n"
     ]
    }
   ],
   "source": [
    "#Reset the index of the DataFrame to bring 'Name' back as a column.\n",
    "data = {\n",
    "    'Name': ['Alice', 'Bob', 'Charlie', 'David', 'Eva'],\n",
    "    'Age': [25, 30, 35, 40, 45],\n",
    "    'Score': [85, 90, 78, 92, 88]\n",
    "}\n",
    "df=pd.DataFrame(data)\n",
    "df.set_index('Name',inplace=True)\n",
    "df.reset_index(inplace=True)\n",
    "print(df)\n"
   ]
  },
  {
   "cell_type": "markdown",
   "id": "02bef4fa-8758-4456-bcd5-7ab69a44dcfe",
   "metadata": {},
   "source": [
    "#  HANDLING MISSING VALUES AND DATA TYPES"
   ]
  },
  {
   "cell_type": "code",
   "execution_count": 101,
   "id": "d677fd62-130c-4a94-a67d-70e76138e0d3",
   "metadata": {},
   "outputs": [
    {
     "name": "stdout",
     "output_type": "stream",
     "text": [
      "Name     0\n",
      "Age      2\n",
      "Score    1\n",
      "dtype: int64\n"
     ]
    }
   ],
   "source": [
    "#check for missing values column-wise using .isnull().sum()\n",
    "data = {\n",
    "    'Name': ['Alice', 'Bob', 'Charlie', 'David', 'Eva'],\n",
    "    'Age': [25, np.nan, 35, 40, np.nan],\n",
    "    'Score': [85, 90, np.nan, 92, 88]\n",
    "}\n",
    "df=pd.DataFrame(data)\n",
    "print(df.isnull().sum()) #counts the no.of missing values(null/Nan) in each column "
   ]
  },
  {
   "cell_type": "code",
   "execution_count": 105,
   "id": "3fbdcb66-a1c6-4e88-abe8-84cb5781a8c5",
   "metadata": {},
   "outputs": [
    {
     "name": "stdout",
     "output_type": "stream",
     "text": [
      "3\n"
     ]
    }
   ],
   "source": [
    "#Count the total number of missing values in the DataFrame\n",
    "data = {\n",
    "    'Name': ['Alice', 'Bob', 'Charlie', 'David', 'Eva'],\n",
    "    'Age': [25, np.nan, 35, 40, np.nan],\n",
    "    'Score': [85, 90, np.nan, 92, 88]\n",
    "}\n",
    "df=pd.DataFrame(data)\n",
    "print(df.isnull().sum().sum())"
   ]
  },
  {
   "cell_type": "code",
   "execution_count": 113,
   "id": "62096b2a-c22d-42b0-914e-11aa68f90c8e",
   "metadata": {},
   "outputs": [
    {
     "name": "stdout",
     "output_type": "stream",
     "text": [
      "      Name   Age  Score\n",
      "0    Alice  25.0   85.0\n",
      "1      Bob   0.0   90.0\n",
      "2  Charlie  35.0    0.0\n",
      "3    David  40.0   92.0\n",
      "4      Eva   0.0   88.0\n",
      "      Name   Age  Score\n",
      "0    Alice  25.0   85.0\n",
      "1      Bob   0.0   90.0\n",
      "2  Charlie  35.0    NaN\n",
      "3    David  40.0   92.0\n",
      "4      Eva   0.0   88.0\n"
     ]
    }
   ],
   "source": [
    "#Fill all missing values with a constant value 0.\n",
    "data = {\n",
    "    'Name': ['Alice', 'Bob', 'Charlie', 'David', 'Eva'],\n",
    "    'Age': [25, np.nan, 35, 40, np.nan],\n",
    "    'Score': [85, 90, np.nan, 92, 88]\n",
    "}\n",
    "df=pd.DataFrame(data)\n",
    "df.fillna(0,inplace=True)\n",
    "print(df)\n",
    "\n",
    "#fill missing values only in age\n",
    "data = {\n",
    "    'Name': ['Alice', 'Bob', 'Charlie', 'David', 'Eva'],\n",
    "    'Age': [25, np.nan, 35, 40, np.nan],\n",
    "    'Score': [85, 90, np.nan, 92, 88]\n",
    "}\n",
    "df=pd.DataFrame(data)\n",
    "df.fillna({'Age':0},inplace=True)\n",
    "print(df)"
   ]
  },
  {
   "cell_type": "code",
   "execution_count": 117,
   "id": "ac212b0c-fa18-4877-bb48-9b0a2828050a",
   "metadata": {},
   "outputs": [
    {
     "name": "stdout",
     "output_type": "stream",
     "text": [
      "      Name    Age  Score\n",
      "0    Alice  25.00   85.0\n",
      "1      Bob  33.33   90.0\n",
      "2  Charlie  35.00    NaN\n",
      "3    David  40.00   92.0\n",
      "4      Eva  33.33   88.0\n"
     ]
    }
   ],
   "source": [
    "#Fill missing values in the 'Age' column with the mean age\n",
    "data = {\n",
    "    'Name': ['Alice', 'Bob', 'Charlie', 'David', 'Eva'],\n",
    "    'Age': [25, np.nan, 35, 40, np.nan],\n",
    "    'Score': [85, 90, np.nan, 92, 88]\n",
    "}\n",
    "df=pd.DataFrame(data)\n",
    "df.fillna({'Age':df['Age'].mean().round(2)},inplace=True)\n",
    "print(df)"
   ]
  },
  {
   "cell_type": "code",
   "execution_count": 119,
   "id": "938fe039-7be4-4ef9-b1d1-8c25717b15c3",
   "metadata": {},
   "outputs": [
    {
     "name": "stdout",
     "output_type": "stream",
     "text": [
      "    Name   Age  Score\n",
      "0  Alice  25.0   85.0\n",
      "3  David  40.0   92.0\n"
     ]
    }
   ],
   "source": [
    "#Drop all rows where any value is missing\n",
    "data = {\n",
    "    'Name': ['Alice', 'Bob', 'Charlie', 'David', 'Eva'],\n",
    "    'Age': [25, np.nan, 35, 40, np.nan],\n",
    "    'Score': [85, 90, np.nan, 92, 88]\n",
    "}\n",
    "df=pd.DataFrame(data)\n",
    "df.dropna(axis=0,inplace=True)\n",
    "print(df)"
   ]
  },
  {
   "cell_type": "code",
   "execution_count": 123,
   "id": "3a4dfa00-f05d-4436-8e21-c3a479f9d43e",
   "metadata": {},
   "outputs": [
    {
     "name": "stdout",
     "output_type": "stream",
     "text": [
      "      Name   Age  Score\n",
      "0    Alice  25.0   85.0\n",
      "1      Bob   NaN   90.0\n",
      "2  Charlie  35.0    NaN\n",
      "3    David  40.0   92.0\n",
      "4      Eva   NaN   88.0\n"
     ]
    }
   ],
   "source": [
    "#Drop rows where all values are missing (add one such row manually)\n",
    "data = {\n",
    "    'Name': ['Alice', 'Bob', 'Charlie', 'David', 'Eva',np.nan],\n",
    "    'Age': [25, np.nan, 35, 40, np.nan,np.nan],\n",
    "    'Score': [85, 90, np.nan, 92, 88,np.nan]\n",
    "}\n",
    "df=pd.DataFrame(data) #last row all values are nan\n",
    "df.dropna(axis=0,how='all',inplace=True)  \n",
    "print(df)"
   ]
  },
  {
   "cell_type": "code",
   "execution_count": 32,
   "id": "58c71a97-7daa-4f69-b5bc-37b146b5504b",
   "metadata": {},
   "outputs": [
    {
     "name": "stdout",
     "output_type": "stream",
     "text": [
      "      Name   Age  Score\n",
      "0    Alice  25.0  100.0\n",
      "1      Bob   NaN   90.0\n",
      "2  Charlie  35.0    NaN\n",
      "3    David  40.0   92.0\n",
      "4      Eva   NaN   88.0\n",
      "      Name   Age  Score\n",
      "0    Alice  25.0  100.0\n",
      "1      Bob   NaN   90.0\n",
      "2  Charlie  35.0    NaN\n",
      "3    David  40.0   92.0\n",
      "4      Eva   NaN   88.0\n"
     ]
    }
   ],
   "source": [
    "#Replace all 85 values in the 'Score' column with 100\n",
    "import numpy as np\n",
    "data = {\n",
    "    'Name': ['Alice', 'Bob', 'Charlie', 'David', 'Eva'],\n",
    "    'Age': [25, np.nan, 35, 40, np.nan],\n",
    "    'Score': [85, 90, np.nan, 92, 88]\n",
    "}\n",
    "df=pd.DataFrame(data)\n",
    "df['Score']=np.where(df['Score']==85,100,df['Score'])\n",
    "print(df)\n",
    "\n",
    "#or (using replace)\n",
    "data = {\n",
    "    'Name': ['Alice', 'Bob', 'Charlie', 'David', 'Eva'],\n",
    "    'Age': [25, np.nan, 35, 40, np.nan],\n",
    "    'Score': [85, 90, np.nan, 92, 88]\n",
    "}\n",
    "df=pd.DataFrame(data)\n",
    "df['Score']=df['Score'].replace(85,100)\n",
    "print(df)"
   ]
  },
  {
   "cell_type": "code",
   "execution_count": 137,
   "id": "b2f3d8e4-80a7-4c71-a483-193fc9fad4b1",
   "metadata": {},
   "outputs": [
    {
     "name": "stdout",
     "output_type": "stream",
     "text": [
      "float64\n",
      "int64\n"
     ]
    }
   ],
   "source": [
    "#Change the data type of 'Age' column to int (after handling NaNs appropriately).\n",
    "data = {\n",
    "    'Name': ['Alice', 'Bob', 'Charlie', 'David', 'Eva'],\n",
    "    'Age': [25, np.nan, 35, 40, np.nan],\n",
    "    'Score': [85, 90, np.nan, 92, 88]\n",
    "}\n",
    "df=pd.DataFrame(data)\n",
    "df.fillna(0,inplace=True) #handling nulls\n",
    "\n",
    "#changing data type of age col\n",
    "print(df['Age'].dtypes)\n",
    "df['Age']=df['Age'].astype('int64')\n",
    "print(df['Age'].dtypes)"
   ]
  },
  {
   "cell_type": "code",
   "execution_count": 141,
   "id": "cecb3377-4176-4011-bb43-ca4ef20980de",
   "metadata": {},
   "outputs": [
    {
     "name": "stdout",
     "output_type": "stream",
     "text": [
      "      Name   Age  Score    Status\n",
      "0    Alice  25.0   85.0    active\n",
      "1      Bob   NaN   90.0  inactive\n",
      "2  Charlie  35.0    NaN   pending\n",
      "3    David  40.0   92.0    active\n",
      "4      Eva   NaN   88.0  inactive\n",
      "      Name   Age  Score    Status\n",
      "0    Alice  25.0   85.0    active\n",
      "1      Bob   NaN   90.0  INACTIVE\n",
      "2  Charlie  35.0    NaN   PENDING\n",
      "3    David  40.0   92.0    active\n",
      "4      Eva   NaN   88.0  INACTIVE\n"
     ]
    }
   ],
   "source": [
    "#Create a column 'Status' with values like ['active', 'inactive', 'pending', 'active', 'inactive'] and: Replace 'inactive' with 'INACTIVE' and Replace 'pending' with 'PENDING'\n",
    "data = {\n",
    "    'Name': ['Alice', 'Bob', 'Charlie', 'David', 'Eva'],\n",
    "    'Age': [25, np.nan, 35, 40, np.nan],\n",
    "    'Score': [85, 90, np.nan, 92, 88]\n",
    "}\n",
    "df=pd.DataFrame(data)\n",
    "df['Status']=pd.DataFrame(['active', 'inactive', 'pending', 'active', 'inactive'])\n",
    "print(df)\n",
    "df['Status']=df['Status'].apply(lambda x: 'INACTIVE' if x=='inactive' else ('PENDING' if x=='pending' else x))\n",
    "print(df)"
   ]
  },
  {
   "cell_type": "markdown",
   "id": "048687a6-513f-4b9d-99b3-f71b4ec3e535",
   "metadata": {},
   "source": [
    "# GROUPBY AND AGGREGATIONS"
   ]
  },
  {
   "cell_type": "code",
   "execution_count": 144,
   "id": "024144c7-6b76-42a3-bced-102abcbd27ee",
   "metadata": {},
   "outputs": [
    {
     "name": "stdout",
     "output_type": "stream",
     "text": [
      "float64\n",
      "Name             object\n",
      "Age             float64\n",
      "Score    string[python]\n",
      "dtype: object\n"
     ]
    }
   ],
   "source": [
    "#Convert the 'Score' column to string data type and print the new data types of all columns using .dtypes.\n",
    "data = {\n",
    "    'Name': ['Alice', 'Bob', 'Charlie', 'David', 'Eva'],\n",
    "    'Age': [25, np.nan, 35, 40, np.nan],\n",
    "    'Score': [85, 90, np.nan, 92, 88]\n",
    "}\n",
    "df=pd.DataFrame(data)\n",
    "df.fillna(0,inplace=True) #handling nulls\n",
    "\n",
    "#changing data type of Score col\n",
    "print(df['Score'].dtypes)\n",
    "df['Score']=df['Score'].astype('string')\n",
    "print(df.dtypes)\n"
   ]
  },
  {
   "cell_type": "code",
   "execution_count": 147,
   "id": "b2843288-6c14-4ddc-b83e-95e788d4cb65",
   "metadata": {},
   "outputs": [
    {
     "name": "stdout",
     "output_type": "stream",
     "text": [
      "Department\n",
      "HR       56000.0\n",
      "IT       60000.0\n",
      "Sales    53000.0\n",
      "Name: Salary, dtype: float64\n"
     ]
    }
   ],
   "source": [
    "#Group by 'Department' and calculate average salary per department.\n",
    "data = {\n",
    "    'Department': ['Sales', 'HR', 'Sales', 'HR', 'IT', 'IT', 'Sales'],\n",
    "    'Employee': ['Alice', 'Bob', 'Charlie', 'David', 'Eva', 'Frank', 'Grace'],\n",
    "    'Salary': [50000, 60000, 55000, 52000, 62000, 58000, 54000]\n",
    "}\n",
    "df=pd.DataFrame(data)\n",
    "dep=df.groupby('Department')['Salary'].agg('mean')\n",
    "print(dep)"
   ]
  },
  {
   "cell_type": "code",
   "execution_count": 149,
   "id": "ad30ff8f-30d9-4645-886c-3bdd4000f8b1",
   "metadata": {},
   "outputs": [
    {
     "name": "stdout",
     "output_type": "stream",
     "text": [
      "               sum    max\n",
      "Department               \n",
      "HR          112000  60000\n",
      "IT          120000  62000\n",
      "Sales       159000  55000\n"
     ]
    }
   ],
   "source": [
    "#From the same DataFrame, group by 'Department' and calculate sum and max salary for each department.\n",
    "data = {\n",
    "    'Department': ['Sales', 'HR', 'Sales', 'HR', 'IT', 'IT', 'Sales'],\n",
    "    'Employee': ['Alice', 'Bob', 'Charlie', 'David', 'Eva', 'Frank', 'Grace'],\n",
    "    'Salary': [50000, 60000, 55000, 52000, 62000, 58000, 54000]\n",
    "}\n",
    "df=pd.DataFrame(data)\n",
    "dep=df.groupby('Department')['Salary'].agg(['sum','max'])\n",
    "print(dep)"
   ]
  },
  {
   "cell_type": "code",
   "execution_count": 151,
   "id": "240518e6-9a5f-4d97-b2e9-adad2d4e570b",
   "metadata": {},
   "outputs": [
    {
     "name": "stdout",
     "output_type": "stream",
     "text": [
      "Department\n",
      "HR       2\n",
      "IT       2\n",
      "Sales    3\n",
      "Name: Employee, dtype: int64\n"
     ]
    }
   ],
   "source": [
    "#Group by 'Department' and get the count of employees in each department.\n",
    "data = {\n",
    "    'Department': ['Sales', 'HR', 'Sales', 'HR', 'IT', 'IT', 'Sales'],\n",
    "    'Employee': ['Alice', 'Bob', 'Charlie', 'David', 'Eva', 'Frank', 'Grace'],\n",
    "    'Salary': [50000, 60000, 55000, 52000, 62000, 58000, 54000]\n",
    "}\n",
    "df=pd.DataFrame(data)\n",
    "dep=df.groupby('Department')['Employee'].agg('count')\n",
    "print(dep)"
   ]
  },
  {
   "cell_type": "code",
   "execution_count": 155,
   "id": "2cf0d2a6-0170-4ed5-8b31-af3973f143b2",
   "metadata": {},
   "outputs": [
    {
     "name": "stdout",
     "output_type": "stream",
     "text": [
      "             Salary    Bonus\n",
      "Department                  \n",
      "HR          56000.0  43200.0\n",
      "IT          60000.0  21120.0\n",
      "Sales       53000.0  53164.0\n"
     ]
    }
   ],
   "source": [
    "#Create a new column 'Bonus' with any 7 values, and then group by 'Department' and compute mean salary and mean bonus.\n",
    "data = {\n",
    "    'Department': ['Sales', 'HR', 'Sales', 'HR', 'IT', 'IT', 'Sales'],\n",
    "    'Employee': ['Alice', 'Bob', 'Charlie', 'David', 'Eva', 'Frank', 'Grace'],\n",
    "    'Salary': [50000, 60000, 55000, 52000, 62000, 58000, 54000]\n",
    "}\n",
    "df=pd.DataFrame(data)\n",
    "df['Bonus']=pd.DataFrame(np.random.randint(1000,20000,7).round(2))\n",
    "dep=df.groupby('Department').agg({'Salary':'mean','Bonus':'mean'})\n",
    "print(dep)"
   ]
  },
  {
   "cell_type": "code",
   "execution_count": 20,
   "id": "9b7cfd14-3dff-4213-b077-948c989a8da2",
   "metadata": {},
   "outputs": [
    {
     "name": "stdout",
     "output_type": "stream",
     "text": [
      "  Department Employee  Salary\n",
      "1         HR      Bob   60000\n",
      "3         HR    David   52000\n",
      "4         IT      Eva   62000\n",
      "5         IT    Frank   58000\n"
     ]
    }
   ],
   "source": [
    "#Group by 'Department' and return only those groups where the average salary is above 55,000\n",
    "data = {\n",
    "    'Department': ['Sales', 'HR', 'Sales', 'HR', 'IT', 'IT', 'Sales'],\n",
    "    'Employee': ['Alice', 'Bob', 'Charlie', 'David', 'Eva', 'Frank', 'Grace'],\n",
    "    'Salary': [50000, 60000, 55000, 52000, 62000, 58000, 54000]\n",
    "}\n",
    "df=pd.DataFrame(data)\n",
    "dep=df.groupby('Department').filter(lambda x: (x['Salary'].mean()>55000).all())  #all checks if all values in a group or axis(row/col) are true (ie satisfying condition) then it return that group where that col/row satisfying condition\n",
    "print(dep)"
   ]
  },
  {
   "cell_type": "code",
   "execution_count": 21,
   "id": "dac2cd85-0c7e-4157-95df-c3d4d347664f",
   "metadata": {},
   "outputs": [
    {
     "name": "stdout",
     "output_type": "stream",
     "text": [
      "  Department Employee  Salary\n",
      "1         HR      Bob   60000\n",
      "4         IT      Eva   62000\n",
      "2      Sales  Charlie   55000\n"
     ]
    }
   ],
   "source": [
    "#For each department, find the employee with the highest salary.\n",
    "data = {\n",
    "    'Department': ['Sales', 'HR', 'Sales', 'HR', 'IT', 'IT', 'Sales'],\n",
    "    'Employee': ['Alice', 'Bob', 'Charlie', 'David', 'Eva', 'Frank', 'Grace'],\n",
    "    'Salary': [50000, 60000, 55000, 52000, 62000, 58000, 54000]\n",
    "}\n",
    "df=pd.DataFrame(data)\n",
    "dep=df.groupby(['Department'])['Salary'].idxmax()\n",
    "print(df.loc[dep])"
   ]
  },
  {
   "cell_type": "code",
   "execution_count": 26,
   "id": "86ad4d32-60c7-44f4-ba29-2f07fd871065",
   "metadata": {},
   "outputs": [
    {
     "name": "stdout",
     "output_type": "stream",
     "text": [
      "             Salary\n",
      "Department         \n",
      "IT          60000.0\n",
      "HR          56000.0\n",
      "Sales       53000.0\n"
     ]
    }
   ],
   "source": [
    "#Sort the departments by average salary in descending order.\n",
    "data = {\n",
    "    'Department': ['Sales', 'HR', 'Sales', 'HR', 'IT', 'IT', 'Sales'],\n",
    "    'Employee': ['Alice', 'Bob', 'Charlie', 'David', 'Eva', 'Frank', 'Grace'],\n",
    "    'Salary': [50000, 60000, 55000, 52000, 62000, 58000, 54000]\n",
    "}\n",
    "df=pd.DataFrame(data)\n",
    "dep=df.groupby(['Department']).agg({'Salary':'mean'})\n",
    "print(dep.sort_values(by='Salary',ascending=False))"
   ]
  },
  {
   "cell_type": "code",
   "execution_count": 29,
   "id": "acd63278-0c77-46ef-9cbc-d94b30d96e1b",
   "metadata": {},
   "outputs": [
    {
     "name": "stdout",
     "output_type": "stream",
     "text": [
      "Department\n",
      "Sales    3\n",
      "HR       2\n",
      "IT       2\n",
      "Name: count, dtype: int64\n"
     ]
    }
   ],
   "source": [
    "#Use value_counts() to count how many times each department appears\n",
    "data = {\n",
    "    'Department': ['Sales', 'HR', 'Sales', 'HR', 'IT', 'IT', 'Sales'],\n",
    "    'Employee': ['Alice', 'Bob', 'Charlie', 'David', 'Eva', 'Frank', 'Grace'],\n",
    "    'Salary': [50000, 60000, 55000, 52000, 62000, 58000, 54000]\n",
    "}\n",
    "df=pd.DataFrame(data)\n",
    "dep=df['Department'].value_counts()\n",
    "print(dep)"
   ]
  },
  {
   "cell_type": "code",
   "execution_count": 48,
   "id": "4a4eeb67-390e-4095-a707-33b73d9d29ca",
   "metadata": {},
   "outputs": [
    {
     "name": "stdout",
     "output_type": "stream",
     "text": [
      "             Salary                Bonus\n",
      "               mean    min    max    sum\n",
      "Department                              \n",
      "HR          56000.0  52000  60000  16845\n",
      "IT          60000.0  58000  62000   7241\n",
      "Sales       53000.0  50000  55000  34120\n"
     ]
    }
   ],
   "source": [
    "#Use .agg() to get: 'Salary': min, max, mean and 'Bonus': sum\n",
    "data = {\n",
    "    'Department': ['Sales', 'HR', 'Sales', 'HR', 'IT', 'IT', 'Sales'],\n",
    "    'Employee': ['Alice', 'Bob', 'Charlie', 'David', 'Eva', 'Frank', 'Grace'],\n",
    "    'Salary': [50000, 60000, 55000, 52000, 62000, 58000, 54000]\n",
    "}\n",
    "df=pd.DataFrame(data)\n",
    "df['Bonus']=pd.DataFrame(np.random.randint(1000,20000,7).round(2))\n",
    "dep=df.groupby('Department').agg({'Salary':['mean','min','max'],'Bonus':'sum'})\n",
    "print(dep)"
   ]
  },
  {
   "cell_type": "code",
   "execution_count": 224,
   "id": "e3f45009-55bd-471c-a44d-03c60502f59d",
   "metadata": {},
   "outputs": [
    {
     "name": "stdout",
     "output_type": "stream",
     "text": [
      "  Department Employee  Salary  Bonus\n",
      "0      Sales    Alice   50000   2707\n",
      "1         HR      Bob   60000  16781\n",
      "2      Sales  Charlie   55000  13299\n",
      "3         HR    David   52000  17666\n",
      "4         IT      Eva   62000   4089\n",
      "5         IT    Frank   58000  18030\n",
      "6      Sales    Grace   54000   1890\n",
      "  Department Employee  Salary  Bonus  compensation\n",
      "0      Sales    Alice   50000   2707         52707\n",
      "1         HR      Bob   60000  16781         76781\n",
      "2      Sales  Charlie   55000  13299         68299\n",
      "3         HR    David   52000  17666         69666\n",
      "4         IT      Eva   62000   4089         66089\n",
      "5         IT    Frank   58000  18030         76030\n",
      "6      Sales    Grace   54000   1890         55890\n",
      "Department\n",
      "HR       73223.500000\n",
      "IT       71059.500000\n",
      "Sales    58965.333333\n",
      "Name: compensation, dtype: float64\n"
     ]
    }
   ],
   "source": [
    "#For each department, calculate total compensation (i.e., Salary + Bonus) and return the average total compensation per department\n",
    "data = {\n",
    "    'Department': ['Sales', 'HR', 'Sales', 'HR', 'IT', 'IT', 'Sales'],\n",
    "    'Employee': ['Alice', 'Bob', 'Charlie', 'David', 'Eva', 'Frank', 'Grace'],\n",
    "    'Salary': [50000, 60000, 55000, 52000, 62000, 58000, 54000]\n",
    "}\n",
    "df=pd.DataFrame(data)\n",
    "df['Bonus']=pd.DataFrame(np.random.randint(1000,20000,7).round(2))\n",
    "print(df)\n",
    "df['compensation']=df['Salary']+df['Bonus']\n",
    "print(df)\n",
    "dep=df.groupby('Department')['compensation'].agg('mean')\n",
    "print(dep)"
   ]
  },
  {
   "cell_type": "markdown",
   "id": "e1dc7ec4-53f8-4efa-9b5c-7563bffb1d7f",
   "metadata": {},
   "source": [
    "# SORTING, RANKING AND DUPLICATES"
   ]
  },
  {
   "cell_type": "code",
   "execution_count": 53,
   "id": "94412427-3cdb-4fe7-90fe-20f5ccb17cbc",
   "metadata": {},
   "outputs": [
    {
     "name": "stdout",
     "output_type": "stream",
     "text": [
      "      Name  Score  Age\n",
      "2  Charlie     78   35\n",
      "0    Alice     85   25\n",
      "4      Eva     88   40\n",
      "1      Bob     92   30\n",
      "3    David     92   30\n"
     ]
    }
   ],
   "source": [
    "# sort it by Score (ascending)\n",
    "data = {\n",
    "    'Name': ['Alice', 'Bob', 'Charlie', 'David', 'Eva'],\n",
    "    'Score': [85, 92, 78, 92, 88],\n",
    "    'Age': [25, 30, 35, 30, 40]\n",
    "}\n",
    "df=pd.DataFrame(data)\n",
    "print(df.sort_values(by='Score'))"
   ]
  },
  {
   "cell_type": "code",
   "execution_count": 57,
   "id": "576d158f-6430-45e7-a288-083ec6324929",
   "metadata": {},
   "outputs": [
    {
     "name": "stdout",
     "output_type": "stream",
     "text": [
      "      Name  Score  Age\n",
      "3    David     92   28\n",
      "1      Bob     92   30\n",
      "4      Eva     88   40\n",
      "0    Alice     85   25\n",
      "2  Charlie     78   35\n"
     ]
    }
   ],
   "source": [
    "#Sort the above DataFrame by Score (descending), then by Age (ascending)\n",
    "data = {\n",
    "    'Name': ['Alice', 'Bob', 'Charlie', 'David', 'Eva'],\n",
    "    'Score': [85, 92, 78, 92, 88],\n",
    "    'Age': [25, 30, 35, 28, 40]\n",
    "}\n",
    "df=pd.DataFrame(data)\n",
    "print(df.sort_values(by=['Score','Age'],ascending=[False,True]))"
   ]
  },
  {
   "cell_type": "code",
   "execution_count": 60,
   "id": "3556dd2f-ab17-4dc1-8cf5-f0d59d74a5ef",
   "metadata": {},
   "outputs": [
    {
     "name": "stdout",
     "output_type": "stream",
     "text": [
      "      Name  Score  Age\n",
      "4      Eva     88   40\n",
      "3    David     92   30\n",
      "2  Charlie     78   35\n",
      "1      Bob     92   30\n",
      "0    Alice     85   25\n"
     ]
    }
   ],
   "source": [
    "#Sort the DataFrame by index in reverse order\n",
    "data = {\n",
    "    'Name': ['Alice', 'Bob', 'Charlie', 'David', 'Eva'],\n",
    "    'Score': [85, 92, 78, 92, 88],\n",
    "    'Age': [25, 30, 35, 30, 40]\n",
    "}\n",
    "df=pd.DataFrame(data)\n",
    "print(df.sort_index(axis=0,ascending=False))"
   ]
  },
  {
   "cell_type": "code",
   "execution_count": 73,
   "id": "f96013da-a015-4e9d-a743-a7539ab6b404",
   "metadata": {},
   "outputs": [
    {
     "name": "stdout",
     "output_type": "stream",
     "text": [
      "      Name  Score  Age  Rank\n",
      "0    Alice     85   25   3.0\n",
      "1      Bob     92   30   1.0\n",
      "2  Charlie     78   35   4.0\n",
      "3    David     92   30   1.0\n",
      "4      Eva     88   40   2.0\n"
     ]
    }
   ],
   "source": [
    "#Add a 'Rank' column by ranking students based on Score (higher score → higher rank)\n",
    "data = {\n",
    "    'Name': ['Alice', 'Bob', 'Charlie', 'David', 'Eva'],\n",
    "    'Score': [85, 92, 78, 92, 88],\n",
    "    'Age': [25, 30, 35, 30, 40]\n",
    "}\n",
    "df=pd.DataFrame(data)\n",
    "df['Rank']=df['Score'].rank(ascending=False,method='dense') # 'dense': Assigns consecutive ranks without gaps, even with ties.(dense_rank() in sql)\n",
    "print(df)                              # 'first': Assigns ranks based on the order of appearance in the data for tied values. (row_number() in sql)\n"
   ]
  },
  {
   "cell_type": "code",
   "execution_count": 75,
   "id": "5daf369c-f9f9-4c0a-8791-eff9590f04d9",
   "metadata": {},
   "outputs": [
    {
     "name": "stdout",
     "output_type": "stream",
     "text": [
      "      Name  Score  Age  Rank\n",
      "0    Alice     85   25   4.0\n",
      "1      Bob     92   30   1.0\n",
      "2  Charlie     78   35   5.0\n",
      "3    David     92   30   1.0\n",
      "4      Eva     88   40   3.0\n"
     ]
    }
   ],
   "source": [
    "#Use 'min' ranking method and show how it affects ties.\n",
    "data = {\n",
    "    'Name': ['Alice', 'Bob', 'Charlie', 'David', 'Eva'],\n",
    "    'Score': [85, 92, 78, 92, 88],\n",
    "    'Age': [25, 30, 35, 30, 40]\n",
    "}\n",
    "df=pd.DataFrame(data)\n",
    "df['Rank']=df['Score'].rank(ascending=False,method='min') # 'min': assign same rank to ties and it skip one number to rank next (rank() in sql) \n",
    "print(df)"
   ]
  },
  {
   "cell_type": "code",
   "execution_count": 95,
   "id": "3df33721-65de-4335-9109-8560db786d96",
   "metadata": {},
   "outputs": [
    {
     "name": "stdout",
     "output_type": "stream",
     "text": [
      "   Score  count\n",
      "0     78      1\n",
      "1     85      1\n",
      "2     88      1\n",
      "3     92      2\n",
      "Score\n",
      "92    2\n",
      "85    1\n",
      "78    1\n",
      "88    1\n",
      "Name: count, dtype: int64\n"
     ]
    }
   ],
   "source": [
    "#Identify duplicate rows based on 'Score' column only.\n",
    "data = {\n",
    "    'Name': ['Alice', 'Bob', 'Charlie', 'David', 'Eva'],\n",
    "    'Score': [85, 92, 78, 92, 88],\n",
    "    'Age': [25, 30, 35, 30, 40]\n",
    "}\n",
    "df=pd.DataFrame(data)\n",
    "group=df.groupby('Score')['Name'].nunique().reset_index().rename(columns={'Name':'count'})\n",
    "print(group)\n",
    "\n",
    "# or\n",
    "print(df['Score'].value_counts())"
   ]
  },
  {
   "cell_type": "code",
   "execution_count": 90,
   "id": "9f15b526-9210-4f01-8eb5-40309c7c51e6",
   "metadata": {},
   "outputs": [
    {
     "name": "stdout",
     "output_type": "stream",
     "text": [
      "      Name  Score  Age\n",
      "0    Alice     85   25\n",
      "1      Bob     92   30\n",
      "2  Charlie     78   35\n",
      "4      Eva     88   40\n"
     ]
    }
   ],
   "source": [
    "#Drop duplicate rows based on 'Score' and keep the first occurrence\n",
    "data = {\n",
    "    'Name': ['Alice', 'Bob', 'Charlie', 'David', 'Eva'],\n",
    "    'Score': [85, 92, 78, 92, 88],\n",
    "    'Age': [25, 30, 35, 30, 40]\n",
    "}\n",
    "df=pd.DataFrame(data)\n",
    "df.drop_duplicates('Score',keep='first',inplace=True)\n",
    "print(df)"
   ]
  },
  {
   "cell_type": "code",
   "execution_count": 92,
   "id": "c0bfa3f6-3947-4f7b-9f66-8ac0f3595577",
   "metadata": {},
   "outputs": [
    {
     "name": "stdout",
     "output_type": "stream",
     "text": [
      "      Name  Score  Age\n",
      "0    Alice     85   25\n",
      "2  Charlie     78   35\n",
      "3    David     92   30\n",
      "4      Eva     88   40\n"
     ]
    }
   ],
   "source": [
    "#Drop duplicate rows based on 'Score' and keep the last occurrence\n",
    "data = {\n",
    "    'Name': ['Alice', 'Bob', 'Charlie', 'David', 'Eva'],\n",
    "    'Score': [85, 92, 78, 92, 88],\n",
    "    'Age': [25, 30, 35, 30, 40]\n",
    "}\n",
    "df=pd.DataFrame(data)\n",
    "df.drop_duplicates('Score',keep='last',inplace=True)\n",
    "print(df)"
   ]
  },
  {
   "cell_type": "code",
   "execution_count": 94,
   "id": "302f89df-6979-400d-b1be-bca933dedc07",
   "metadata": {},
   "outputs": [
    {
     "name": "stdout",
     "output_type": "stream",
     "text": [
      "      Name  Score  Age\n",
      "0    Alice     85   25\n",
      "2  Charlie     78   35\n",
      "4      Eva     88   40\n"
     ]
    }
   ],
   "source": [
    "#Drop duplicates based on both 'Score' and 'Age'\n",
    "data = {\n",
    "    'Name': ['Alice', 'Bob', 'Charlie', 'David', 'Eva'],\n",
    "    'Score': [85, 92, 78, 92, 88],\n",
    "    'Age': [25, 30, 35, 30, 40]\n",
    "}\n",
    "df=pd.DataFrame(data)\n",
    "df.drop_duplicates(['Score','Age'],keep=False,inplace=True) # keep=False delete duplicate rows (not in one col but it find dupliactes based on all cols and delete that row\n",
    "print(df)"
   ]
  },
  {
   "cell_type": "code",
   "execution_count": null,
   "id": "d796b1f1-055d-4b2b-bd93-0d32bbb13fd8",
   "metadata": {},
   "outputs": [],
   "source": [
    "#Create a DataFrame with duplicate Names and count how many times each name appears using value_counts()\n",
    "data = {\n",
    "    'Name': ['Alice', 'Bob', 'Charlie', 'David', 'Eva','Bob'],\n",
    "    'Score': [85, 92, 78, 92, 88,92],\n",
    "    'Age': [25, 30, 35, 30, 40,30]\n",
    "}\n",
    "df=pd.DataFrame(data)\n",
    "print(df['Name'].value_counts())"
   ]
  },
  {
   "cell_type": "markdown",
   "id": "f8ba1338-2871-4a31-83bd-058d69c27a44",
   "metadata": {},
   "source": [
    "# DATETIME OPERATIONS"
   ]
  },
  {
   "cell_type": "code",
   "execution_count": 223,
   "id": "21b941d1-20ed-4453-ab80-6eaaf89e28cc",
   "metadata": {},
   "outputs": [
    {
     "name": "stdout",
     "output_type": "stream",
     "text": [
      "DatetimeIndex(['2023-01-01', '2023-05-10', '2023-09-15'], dtype='datetime64[ns]', freq=None)\n"
     ]
    }
   ],
   "source": [
    "#Convert the list ['2023-01-01', '2023-05-10', '2023-09-15'] to datetime using pd.to_datetime()\n",
    "a=['2023-01-01', '2023-05-10', '2023-09-15']\n",
    "df=pd.to_datetime(a)\n",
    "print(df)"
   ]
  },
  {
   "cell_type": "code",
   "execution_count": 106,
   "id": "4cbafb16-656c-40d9-b6a7-2e6d172c8874",
   "metadata": {},
   "outputs": [
    {
     "name": "stdout",
     "output_type": "stream",
     "text": [
      "Date     datetime64[ns]\n",
      "Value             int64\n",
      "dtype: object\n"
     ]
    }
   ],
   "source": [
    "#Create a DataFrame with 3 rows and a 'Date' column (as datetime) and a 'Value' column with numbers.\n",
    "data={'Date':['2023-01-01', '2023-05-10', '2023-09-15'],\n",
    "      'Value':[10,20,30]}\n",
    "df=pd.DataFrame(data)\n",
    "df['Date']=pd.to_datetime(df['Date'])\n",
    "print(df.dtypes)"
   ]
  },
  {
   "cell_type": "code",
   "execution_count": 108,
   "id": "bd3cccee-47cf-4ed8-a9dd-ffde3a19d43a",
   "metadata": {},
   "outputs": [
    {
     "name": "stdout",
     "output_type": "stream",
     "text": [
      "        Date  Value  year  month  day\n",
      "0 2023-01-01     10  2023      1    1\n",
      "1 2023-05-10     20  2023      5   10\n",
      "2 2023-09-15     30  2023      9   15\n"
     ]
    }
   ],
   "source": [
    "#Extract year, month, and weekday from the 'Date' column and store them in separate columns.\n",
    "data={'Date':['2023-01-01', '2023-05-10', '2023-09-15'],\n",
    "      'Value':[10,20,30]}\n",
    "df=pd.DataFrame(data)\n",
    "df['Date']=pd.to_datetime(df['Date'])\n",
    "df['year']=df['Date'].dt.year\n",
    "df['month']=df['Date'].dt.month\n",
    "df['day']=df['Date'].dt.day\n",
    "print(df)"
   ]
  },
  {
   "cell_type": "code",
   "execution_count": 110,
   "id": "7f742a72-52a6-4bce-92cf-ba60e60aafb1",
   "metadata": {},
   "outputs": [
    {
     "name": "stdout",
     "output_type": "stream",
     "text": [
      "        Date  Value\n",
      "2 2023-09-15     30\n"
     ]
    }
   ],
   "source": [
    "#Filter the rows where the date is after '2023-06-01'\n",
    "data={'Date':['2023-01-01', '2023-05-10', '2023-09-15'],\n",
    "      'Value':[10,20,30]}\n",
    "df=pd.DataFrame(data)\n",
    "df['Date']=pd.to_datetime(df['Date'])\n",
    "print(df[df['Date']>'2023-06-01'])"
   ]
  },
  {
   "cell_type": "code",
   "execution_count": 118,
   "id": "d89fd0c0-d695-4a53-a00c-8ff6b92322f8",
   "metadata": {},
   "outputs": [
    {
     "name": "stdout",
     "output_type": "stream",
     "text": [
      "DatetimeIndex(['2023-01-01', '2023-01-02', '2023-01-03', '2023-01-04',\n",
      "               '2023-01-05', '2023-01-06', '2023-01-07', '2023-01-08',\n",
      "               '2023-01-09', '2023-01-10'],\n",
      "              dtype='datetime64[ns]', freq='D')\n"
     ]
    }
   ],
   "source": [
    "#Generate a sequence of 10 dates starting from '2023-01-01'\n",
    "start='2023-01-01'\n",
    "end=pd.to_datetime(start)+ pd.DateOffset(days=9)\n",
    "print(pd.date_range(start,end))"
   ]
  },
  {
   "cell_type": "code",
   "execution_count": 124,
   "id": "b6e913fc-b4b7-4d18-a0fd-1b4eb1330879",
   "metadata": {},
   "outputs": [
    {
     "name": "stdout",
     "output_type": "stream",
     "text": [
      "            Value\n",
      "Date             \n",
      "2023-01-01     54\n",
      "2023-01-02     70\n",
      "2023-01-03     98\n",
      "2023-01-04     27\n",
      "2023-01-05     42\n",
      "2023-01-06     78\n",
      "2023-01-07     43\n",
      "2023-01-08     11\n",
      "2023-01-09     79\n",
      "2023-01-10     83\n"
     ]
    }
   ],
   "source": [
    "#Create a time series (1 column of random numbers) indexed by dates from '2023-01-01' to '2023-01-10'\n",
    "data={'Date': pd.date_range('2023-01-01','2023-01-10'),\n",
    "      'Value':np.random.randint(1,100,10)}\n",
    "df=pd.DataFrame(data)\n",
    "df.set_index('Date',inplace=True)\n",
    "print(df)"
   ]
  },
  {
   "cell_type": "code",
   "execution_count": 158,
   "id": "3d3804ac-f64d-43bc-a475-45fd3938c1b2",
   "metadata": {},
   "outputs": [
    {
     "name": "stdout",
     "output_type": "stream",
     "text": [
      "        Date  Value\n",
      "0 2023-01-01     85\n",
      "1 2023-01-02     10\n",
      "2 2023-01-03     48\n",
      "3 2023-01-04     88\n",
      "4 2023-01-05     49\n",
      "5 2023-01-06     99\n",
      "6 2023-01-07      9\n",
      "7 2023-01-08     69\n",
      "8 2023-01-09     94\n",
      "9 2023-01-10     52\n",
      "                Value\n",
      "Date                 \n",
      "2023-01-01  85.000000\n",
      "2023-01-08  53.142857\n",
      "2023-01-15  73.000000\n"
     ]
    }
   ],
   "source": [
    "#Resample the time series from daily to weekly frequency and compute the mean.\n",
    "#The resample() method in Pandas is used for changing the frequency of time series data. It is a powerful tool for both downsampling (aggregating data to a lower frequency, e.g., daily to monthly)\n",
    "data={'Date': pd.date_range('2023-01-01','2023-01-10'),  \n",
    "      'Value':np.random.randint(1,100,10)}\n",
    "df=pd.DataFrame(data)\n",
    "print(df)\n",
    "df.set_index('Date', inplace=True)\n",
    "print(df.resample('W').mean()) #resample can used if date is index"
   ]
  },
  {
   "cell_type": "code",
   "execution_count": 146,
   "id": "6806ecea-a967-4277-8dd3-bf8df07dc8b8",
   "metadata": {},
   "outputs": [
    {
     "name": "stdout",
     "output_type": "stream",
     "text": [
      "Date\n",
      "1    96\n",
      "2    91\n",
      "3    86\n",
      "Name: Value, dtype: int32\n"
     ]
    }
   ],
   "source": [
    "#Create a DataFrame of hourly data for 2 days and resample it to daily max values\n",
    "data={'Date': pd.date_range('2023-01-01 08:00',periods=48,freq='h'), # 2days=48 hours\n",
    "     'Value':np.random.randint(1,100,48)} \n",
    "df=pd.DataFrame(data)\n",
    "group=df.groupby(df['Date'].dt.day)['Value'].agg('max')\n",
    "print(group)"
   ]
  },
  {
   "cell_type": "code",
   "execution_count": 149,
   "id": "6a56d6d5-5774-4e42-b718-fbd09217ab55",
   "metadata": {},
   "outputs": [
    {
     "name": "stdout",
     "output_type": "stream",
     "text": [
      "0    08:45:30\n",
      "1    10:34:03\n",
      "2    03:43:21\n",
      "Name: Date, dtype: object\n"
     ]
    }
   ],
   "source": [
    "#Given a datetime column, extract only the time (hh:mm:ss) part.\n",
    "data={'Date':['2023-01-01 08:45:30', '2023-05-10 10:34:03', '2023-09-15 03:43:21']}\n",
    "df=pd.DataFrame(data)\n",
    "df['Date']=pd.to_datetime(df['Date'])\n",
    "print(df['Date'].dt.time)"
   ]
  },
  {
   "cell_type": "code",
   "execution_count": 159,
   "id": "ed5fae8a-1d02-4bee-8fa2-5aecccd74f96",
   "metadata": {},
   "outputs": [
    {
     "name": "stdout",
     "output_type": "stream",
     "text": [
      "                 Date  Value\n",
      "0 2023-01-08 08:45:30     10\n",
      "1 2023-05-17 10:34:03     20\n",
      "2 2023-09-22 03:43:21     30\n"
     ]
    }
   ],
   "source": [
    "#Shift all dates in the 'Date' column by +7 days using .shift() or .timedelta\n",
    "data={'Date':['2023-01-01 08:45:30', '2023-05-10 10:34:03', '2023-09-15 03:43:21'],\n",
    "     'Value':[10,20,30]}\n",
    "df=pd.DataFrame(data)\n",
    "df['Date']=pd.to_datetime(df['Date'])\n",
    "df['Date']=df['Date']+pd.Timedelta(days=7) # dates will increment by 7 days for every date  (ie 1+7=8,10+7=17,15+7=22)\n",
    "print(df)"
   ]
  },
  {
   "cell_type": "markdown",
   "id": "50698375-dad2-4943-81ea-1510430445f9",
   "metadata": {},
   "source": [
    "# MERGE, CONCAT"
   ]
  },
  {
   "cell_type": "code",
   "execution_count": 161,
   "id": "6664252d-946a-4d8c-9a7d-3c8c44fd9a9c",
   "metadata": {},
   "outputs": [
    {
     "name": "stdout",
     "output_type": "stream",
     "text": [
      "   ID     Name\n",
      "0   1    Alice\n",
      "1   2      Bob\n",
      "0   3  Charlie\n",
      "1   4    David\n"
     ]
    }
   ],
   "source": [
    "#Concatenate two DataFrames vertically\n",
    "df1 = pd.DataFrame({'ID': [1, 2], 'Name': ['Alice', 'Bob']})\n",
    "df2 = pd.DataFrame({'ID': [3, 4], 'Name': ['Charlie', 'David']})\n",
    "print(pd.concat([df1,df2]))\n"
   ]
  },
  {
   "cell_type": "code",
   "execution_count": 163,
   "id": "d0e5c309-aadf-4d35-8662-16e74c0d1b37",
   "metadata": {},
   "outputs": [
    {
     "name": "stdout",
     "output_type": "stream",
     "text": [
      "   ID   Name  ID     Name\n",
      "0   1  Alice   3  Charlie\n",
      "1   2    Bob   4    David\n"
     ]
    }
   ],
   "source": [
    "#Concatenate the same DataFrames horizontally\n",
    "df1 = pd.DataFrame({'ID': [1, 2], 'Name': ['Alice', 'Bob']})\n",
    "df2 = pd.DataFrame({'ID': [3, 4], 'Name': ['Charlie', 'David']})\n",
    "print(pd.concat([df1,df2],axis=1))"
   ]
  },
  {
   "cell_type": "code",
   "execution_count": 165,
   "id": "e2c986e2-9129-4fdf-ad3e-dfccf7afef91",
   "metadata": {},
   "outputs": [
    {
     "name": "stdout",
     "output_type": "stream",
     "text": [
      "   ID     Name    City\n",
      "0   2      Bob   Delhi\n",
      "1   3  Charlie  Mumbai\n"
     ]
    }
   ],
   "source": [
    "#Merge two DataFrames on a common column ID (default inner join)\n",
    "df1 = pd.DataFrame({'ID': [1, 2, 3], 'Name': ['Alice', 'Bob', 'Charlie']})\n",
    "df2 = pd.DataFrame({'ID': [2, 3, 4], 'City': ['Delhi', 'Mumbai', 'Chennai']})\n",
    "print(pd.merge(df1,df2,on='ID'))"
   ]
  },
  {
   "cell_type": "code",
   "execution_count": 167,
   "id": "8b86d170-1ae6-41c6-8407-e35131ccc13e",
   "metadata": {},
   "outputs": [
    {
     "name": "stdout",
     "output_type": "stream",
     "text": [
      "   ID     Name    City\n",
      "0   1    Alice     NaN\n",
      "1   2      Bob   Delhi\n",
      "2   3  Charlie  Mumbai\n"
     ]
    }
   ],
   "source": [
    "#Perform a left join instead of inner\n",
    "df1 = pd.DataFrame({'ID': [1, 2, 3], 'Name': ['Alice', 'Bob', 'Charlie']})\n",
    "df2 = pd.DataFrame({'ID': [2, 3, 4], 'City': ['Delhi', 'Mumbai', 'Chennai']})\n",
    "print(pd.merge(df1,df2,how='left',on='ID'))"
   ]
  },
  {
   "cell_type": "code",
   "execution_count": 170,
   "id": "22a89860-458c-4097-9251-3cc7af776bee",
   "metadata": {},
   "outputs": [
    {
     "name": "stdout",
     "output_type": "stream",
     "text": [
      "   ID     Name     City\n",
      "0   2      Bob    Delhi\n",
      "1   3  Charlie   Mumbai\n",
      "2   4      NaN  Chennai\n"
     ]
    }
   ],
   "source": [
    "#Perform a right join\n",
    "df1 = pd.DataFrame({'ID': [1, 2, 3], 'Name': ['Alice', 'Bob', 'Charlie']})\n",
    "df2 = pd.DataFrame({'ID': [2, 3, 4], 'City': ['Delhi', 'Mumbai', 'Chennai']})\n",
    "print(pd.merge(df1,df2,how='right',on='ID'))"
   ]
  },
  {
   "cell_type": "code",
   "execution_count": 172,
   "id": "a1d0f8c4-a8f7-4c4f-a165-26a36ef2c251",
   "metadata": {},
   "outputs": [
    {
     "name": "stdout",
     "output_type": "stream",
     "text": [
      "   ID     Name     City\n",
      "0   1    Alice      NaN\n",
      "1   2      Bob    Delhi\n",
      "2   3  Charlie   Mumbai\n",
      "3   4      NaN  Chennai\n"
     ]
    }
   ],
   "source": [
    "#Perform an outer(full) join to include all data from both\n",
    "df1 = pd.DataFrame({'ID': [1, 2, 3], 'Name': ['Alice', 'Bob', 'Charlie']})\n",
    "df2 = pd.DataFrame({'ID': [2, 3, 4], 'City': ['Delhi', 'Mumbai', 'Chennai']})\n",
    "print(pd.merge(df1,df2,how='outer',on='ID'))"
   ]
  },
  {
   "cell_type": "code",
   "execution_count": 174,
   "id": "d12bf400-cc7d-44fd-930b-1c5bb8a0a489",
   "metadata": {},
   "outputs": [
    {
     "name": "stdout",
     "output_type": "stream",
     "text": [
      "   emp_id     Name   ID Department\n",
      "0     1.0    Alice  1.0         HR\n",
      "1     2.0      Bob  2.0         IT\n",
      "2     3.0  Charlie  NaN        NaN\n",
      "3     NaN      NaN  4.0      Sales\n"
     ]
    }
   ],
   "source": [
    "#Merge two DataFrames on different column names\n",
    "df1 = pd.DataFrame({'emp_id': [1, 2, 3], 'Name': ['Alice', 'Bob', 'Charlie']})\n",
    "df2 = pd.DataFrame({'ID': [1, 2, 4], 'Department': ['HR', 'IT', 'Sales']})\n",
    "print(pd.merge(df1,df2,how='outer',left_on='emp_id',right_on='ID'))"
   ]
  },
  {
   "cell_type": "code",
   "execution_count": 188,
   "id": "83ba8d45-817e-4c12-8d69-2db53f4b9431",
   "metadata": {},
   "outputs": [
    {
     "name": "stdout",
     "output_type": "stream",
     "text": [
      "   A  B  C\n",
      "0  1  3  5\n",
      "1  2  4  6\n"
     ]
    }
   ],
   "source": [
    "#Add a new column to an existing DataFrame using pd.concat()\n",
    "df1 = pd.DataFrame({'A': [1, 2], 'B': [3, 4]})\n",
    "df2 = pd.DataFrame({'C': [5, 6]})\n",
    "print(pd.concat([df1,df2],axis=1))\n"
   ]
  },
  {
   "cell_type": "code",
   "execution_count": 187,
   "id": "331a11fe-3659-4bc3-86f1-c21965f39191",
   "metadata": {},
   "outputs": [
    {
     "name": "stdout",
     "output_type": "stream",
     "text": [
      "   X\n",
      "0  1\n",
      "1  2\n",
      "2  3\n",
      "3  4\n",
      "4  5\n",
      "5  6\n"
     ]
    }
   ],
   "source": [
    "#Concatenate 3 DataFrames vertically and reset the index\n",
    "df1 = pd.DataFrame({'X': [1, 2]})\n",
    "df2 = pd.DataFrame({'X': [3, 4]})\n",
    "df3 = pd.DataFrame({'X': [5, 6]})\n",
    "print(pd.concat([df1,df2,df3]).reset_index(drop=True)) #drop old index"
   ]
  },
  {
   "cell_type": "code",
   "execution_count": 189,
   "id": "2640ab52-da82-48ac-9733-e247f0d27a40",
   "metadata": {},
   "outputs": [
    {
     "name": "stdout",
     "output_type": "stream",
     "text": [
      "   ID     Dept  Score    City\n",
      "0   1       HR     90   Delhi\n",
      "1   2       IT     80  Mumbai\n",
      "2   3  Finance     70     NaN\n"
     ]
    }
   ],
   "source": [
    "#Merge on multiple columns\n",
    "df1 = pd.DataFrame({'ID': [1, 2, 3], 'Dept': ['HR', 'IT', 'Finance'], 'Score': [90, 80, 70]})\n",
    "df2 = pd.DataFrame({'ID': [1, 2, 3], 'Dept': ['HR', 'IT', 'Sales'], 'City': ['Delhi', 'Mumbai', 'Chennai']})\n",
    "print(pd.merge(df1,df2,how='left',on=['ID','Dept']))"
   ]
  },
  {
   "cell_type": "markdown",
   "id": "39613c15-abdd-44bd-bb97-02a8794f389b",
   "metadata": {},
   "source": [
    "# PIVOT TABLE AND CROSSTAB"
   ]
  },
  {
   "cell_type": "code",
   "execution_count": 199,
   "id": "667171b2-2c28-4e0f-bb9a-07491337fb9a",
   "metadata": {},
   "outputs": [
    {
     "name": "stdout",
     "output_type": "stream",
     "text": [
      "            Score\n",
      "Department       \n",
      "HR           91.0\n",
      "IT           88.0\n",
      "Sales        81.5\n"
     ]
    }
   ],
   "source": [
    "#Create a pivot table to find average Score per Department.\n",
    "data = {\n",
    "    'Name': ['Alice', 'Bob', 'Charlie', 'David', 'Eva'],\n",
    "    'Department': ['Sales', 'HR', 'Sales', 'HR', 'IT'],\n",
    "    'Score': [85, 90, 78, 92, 88]\n",
    "}\n",
    "df=pd.DataFrame(data)\n",
    "    print(df.pivot_table(values='Score',index='Department',aggfunc='mean'))"
   ]
  },
  {
   "cell_type": "code",
   "execution_count": 201,
   "id": "7742ad00-70ff-4fd3-bd99-ebb4a767fee3",
   "metadata": {},
   "outputs": [
    {
     "name": "stdout",
     "output_type": "stream",
     "text": [
      "             sum   max\n",
      "           Score Score\n",
      "Department            \n",
      "HR           182    92\n",
      "IT            88    88\n",
      "Sales        163    85\n"
     ]
    }
   ],
   "source": [
    "#Create a pivot table to find sum and max Score per Department.\n",
    "data = {\n",
    "    'Name': ['Alice', 'Bob', 'Charlie', 'David', 'Eva'],\n",
    "    'Department': ['Sales', 'HR', 'Sales', 'HR', 'IT'],\n",
    "    'Score': [85, 90, 78, 92, 88]\n",
    "}\n",
    "df=pd.DataFrame(data)\n",
    "print(df.pivot_table(values='Score',index='Department',aggfunc=['sum','max']))"
   ]
  },
  {
   "cell_type": "code",
   "execution_count": 205,
   "id": "f5014498-6ff5-4197-92ef-7f4924a5f276",
   "metadata": {},
   "outputs": [
    {
     "name": "stdout",
     "output_type": "stream",
     "text": [
      "Gender         F     M\n",
      "Department            \n",
      "HR           NaN  91.0\n",
      "IT          88.0   NaN\n",
      "Sales       85.0  78.0\n"
     ]
    }
   ],
   "source": [
    "#Add a column Gender = ['F', 'M', 'M', 'M', 'F'] Create a pivot table to get average Score by Department and Gender.\n",
    "data = {\n",
    "    'Name': ['Alice', 'Bob', 'Charlie', 'David', 'Eva'],\n",
    "    'Department': ['Sales', 'HR', 'Sales', 'HR', 'IT'],\n",
    "    'Score': [85, 90, 78, 92, 88]\n",
    "}\n",
    "df=pd.DataFrame(data)\n",
    "df['Gender'] = ['F', 'M', 'M', 'M', 'F']\n",
    "print(df.pivot_table(values='Score',index='Department',columns='Gender',aggfunc='mean'))"
   ]
  },
  {
   "cell_type": "code",
   "execution_count": 207,
   "id": "b4d255fe-be25-4d72-b0bc-dc2c83cd7ee5",
   "metadata": {},
   "outputs": [
    {
     "name": "stdout",
     "output_type": "stream",
     "text": [
      "        Score\n",
      "Gender       \n",
      "F         173\n",
      "M         260\n"
     ]
    }
   ],
   "source": [
    "#Create a pivot table to get total Score by Gender.\n",
    "data = {\n",
    "    'Name': ['Alice', 'Bob', 'Charlie', 'David', 'Eva'],\n",
    "    'Department': ['Sales', 'HR', 'Sales', 'HR', 'IT'],\n",
    "    'Score': [85, 90, 78, 92, 88]\n",
    "}\n",
    "df=pd.DataFrame(data)\n",
    "df['Gender'] = ['F', 'M', 'M', 'M', 'F']\n",
    "print(df.pivot_table(values='Score',index='Gender',aggfunc='sum'))"
   ]
  },
  {
   "cell_type": "code",
   "execution_count": 209,
   "id": "9d724794-7f24-40a6-818d-7072c82c28ef",
   "metadata": {},
   "outputs": [
    {
     "name": "stdout",
     "output_type": "stream",
     "text": [
      "Gender      F  M\n",
      "Department      \n",
      "HR          0  2\n",
      "IT          1  0\n",
      "Sales       1  1\n"
     ]
    }
   ],
   "source": [
    "#Use pd.crosstab() to count how many employees are in each Department and Gender combination.\n",
    "#pd.crosstab() compute a frequency(count) table of two or more factors.\n",
    "data = {\n",
    "    'Name': ['Alice', 'Bob', 'Charlie', 'David', 'Eva'],\n",
    "    'Department': ['Sales', 'HR', 'Sales', 'HR', 'IT'],\n",
    "    'Score': [85, 90, 78, 92, 88]\n",
    "}\n",
    "df=pd.DataFrame(data)\n",
    "df['Gender'] = ['F', 'M', 'M', 'M', 'F']\n",
    "ct = pd.crosstab(df['Department'], df['Gender'])\n",
    "print(ct)"
   ]
  },
  {
   "cell_type": "code",
   "execution_count": 214,
   "id": "bcaff5fd-bb3c-4de7-9b77-7bb2d2fce703",
   "metadata": {},
   "outputs": [
    {
     "name": "stdout",
     "output_type": "stream",
     "text": [
      "Category    High  Low\n",
      "Department           \n",
      "HR             2    0\n",
      "IT             1    0\n",
      "Sales          1    1\n"
     ]
    }
   ],
   "source": [
    "#Use pd.crosstab() to show how many employees scored ≥ 85 vs < 85, grouped by Department. (Hint: Create a new column Category = 'High' if Score ≥ 85 else 'Low')\n",
    "data = {\n",
    "    'Name': ['Alice', 'Bob', 'Charlie', 'David', 'Eva'],\n",
    "    'Department': ['Sales', 'HR', 'Sales', 'HR', 'IT'],\n",
    "    'Score': [85, 90, 78, 92, 88]\n",
    "}\n",
    "df=pd.DataFrame(data)\n",
    "df['Category']=df['Score'].apply(lambda x: 'High' if x>=85 else 'Low')\n",
    "print(pd.crosstab(df['Department'],df['Category']))"
   ]
  },
  {
   "cell_type": "code",
   "execution_count": 216,
   "id": "6f6aeaf5-25a8-40f6-b951-4d648b3ed397",
   "metadata": {},
   "outputs": [
    {
     "name": "stdout",
     "output_type": "stream",
     "text": [
      "           Name      Score     \n",
      "Gender        F    M     F    M\n",
      "Department                     \n",
      "HR          NaN  2.0   NaN  2.0\n",
      "IT          1.0  NaN   1.0  NaN\n",
      "Sales       1.0  1.0   1.0  1.0\n"
     ]
    }
   ],
   "source": [
    "#Create a pivot table with Department as index, Gender as columns, and count of employees.\n",
    "data = {\n",
    "    'Name': ['Alice', 'Bob', 'Charlie', 'David', 'Eva'],\n",
    "    'Department': ['Sales', 'HR', 'Sales', 'HR', 'IT'],\n",
    "    'Score': [85, 90, 78, 92, 88]\n",
    "}\n",
    "df=pd.DataFrame(data)\n",
    "df['Gender'] = ['F', 'M', 'M', 'M', 'F']\n",
    "print(df.pivot_table(index='Department',columns='Gender',aggfunc='count'))"
   ]
  },
  {
   "cell_type": "code",
   "execution_count": 221,
   "id": "35b039f2-9a48-431e-aad4-0e6a9cab299b",
   "metadata": {},
   "outputs": [
    {
     "name": "stdout",
     "output_type": "stream",
     "text": [
      "           Name        Score       \n",
      "Gender        F  M All     F  M All\n",
      "Department                         \n",
      "HR            0  2   2     0  2   2\n",
      "IT            1  0   1     1  0   1\n",
      "Sales         1  1   2     1  1   2\n",
      "All           2  3   5     2  3   5\n"
     ]
    }
   ],
   "source": [
    "#Create a pivot table that fills NaN values with 0 and includes margins (totals)\n",
    "data = {\n",
    "    'Name': ['Alice', 'Bob', 'Charlie', 'David', 'Eva'],\n",
    "    'Department': ['Sales', 'HR', 'Sales', 'HR', 'IT'],\n",
    "    'Score': [85, 90, 78, 92, 88]\n",
    "}\n",
    "df=pd.DataFrame(data)\n",
    "df['Gender'] = ['F', 'M', 'M', 'M', 'F']\n",
    "print(df.pivot_table(index='Department',columns='Gender',aggfunc='count',fill_value=0,margins=True)) #fill_value fills nan values with specified value in result pivot table"
   ]
  },
  {
   "cell_type": "markdown",
   "id": "51f3ce6d-efdb-4ed5-9d62-489873b54bb7",
   "metadata": {},
   "source": [
    "# WINDOW FUNCTIONS (ROLLING, EXPANDING, CUMULATIVE)"
   ]
  },
  {
   "cell_type": "code",
   "execution_count": 246,
   "id": "ecbfcf3f-a991-479d-8163-de0cc5d2212f",
   "metadata": {},
   "outputs": [
    {
     "name": "stdout",
     "output_type": "stream",
     "text": [
      "        Date  Sales  meansalesof_dayprev_prev_today\n",
      "0 2023-01-01     10                             NaN\n",
      "1 2023-01-02     15                             NaN\n",
      "2 2023-01-03     20                            15.0\n",
      "3 2023-01-04     25                            20.0\n",
      "4 2023-01-05     30                            25.0\n",
      "5 2023-01-06     35                            30.0\n",
      "6 2023-01-07     40                            35.0\n"
     ]
    }
   ],
   "source": [
    "# Perform a rolling mean over a 3-day window.\n",
    "df=pd.DataFrame({'Date': pd.date_range('2023-01-01', periods=7, freq='D'),\n",
    "              'Sales' : [10, 15, 20, 25, 30, 35, 40]})\n",
    "df['meansalesof_dayprev_prev_today']=df['Sales'].rolling(window=3).mean()   # look in book to understand better\n",
    "print(df)"
   ]
  },
  {
   "cell_type": "code",
   "execution_count": 244,
   "id": "68a3adae-bbba-4b45-991f-933c4bab0480",
   "metadata": {},
   "outputs": [
    {
     "name": "stdout",
     "output_type": "stream",
     "text": [
      "        Date  Sales  running_total\n",
      "0 2023-01-01     10            NaN\n",
      "1 2023-01-02     15           25.0\n",
      "2 2023-01-03     20           35.0\n",
      "3 2023-01-04     25           45.0\n",
      "4 2023-01-05     30           55.0\n",
      "5 2023-01-06     35           65.0\n",
      "6 2023-01-07     40           75.0\n"
     ]
    }
   ],
   "source": [
    "#On the same data, calculate rolling sum with a window size of 2.\n",
    "df=pd.DataFrame({'Date': pd.date_range('2023-01-01', periods=7, freq='D'),\n",
    "              'Sales' : [10, 15, 20, 25, 30, 35, 40]})\n",
    "df['running_total']=df['Sales'].rolling(window=2).sum()   #we can also find running total using expanding where it also show first sales rather tha nan\n",
    "print(df)"
   ]
  },
  {
   "cell_type": "code",
   "execution_count": 249,
   "id": "c5a3d0e5-d163-4ad4-a172-e75c2f47a2ba",
   "metadata": {},
   "outputs": [
    {
     "name": "stdout",
     "output_type": "stream",
     "text": [
      "        Date  Sales  Profit  running_mean\n",
      "0 2023-01-01     10       2      2.000000\n",
      "1 2023-01-02     15       5      3.500000\n",
      "2 2023-01-03     20       4      3.666667\n",
      "3 2023-01-04     25       3      3.500000\n",
      "4 2023-01-05     30       6      4.000000\n",
      "5 2023-01-06     35       5      4.166667\n",
      "6 2023-01-07     40       7      4.571429\n"
     ]
    }
   ],
   "source": [
    "#Add a column Profit = [2, 5, 4, 3, 6, 5, 7] and Calculate the expanding mean of the Profit column.\n",
    "df=pd.DataFrame({'Date': pd.date_range('2023-01-01', periods=7, freq='D'),\n",
    "              'Sales' : [10, 15, 20, 25, 30, 35, 40]})\n",
    "df['Profit']=[2, 5, 4, 3, 6, 5, 7]\n",
    "df['running_mean']=df['Profit'].expanding().mean()    #expanding is like frame - rows between unbounded row and current row in sql (ie from begining to current row)\n",
    "print(df)"
   ]
  },
  {
   "cell_type": "code",
   "execution_count": 251,
   "id": "cb245df2-09b9-4499-b268-34ff7ec175c4",
   "metadata": {},
   "outputs": [
    {
     "name": "stdout",
     "output_type": "stream",
     "text": [
      "        Date  Sales  Profit  running_total\n",
      "0 2023-01-01     10       2            2.0\n",
      "1 2023-01-02     15       5            7.0\n",
      "2 2023-01-03     20       4           11.0\n",
      "3 2023-01-04     25       3           14.0\n",
      "4 2023-01-05     30       6           20.0\n",
      "5 2023-01-06     35       5           25.0\n",
      "6 2023-01-07     40       7           32.0\n"
     ]
    }
   ],
   "source": [
    "#Calculate the cumulative sum of the Sales column.\n",
    "#cumulative sum mean running total \n",
    "df=pd.DataFrame({'Date': pd.date_range('2023-01-01', periods=7, freq='D'),\n",
    "              'Sales' : [10, 15, 20, 25, 30, 35, 40]})\n",
    "df['Profit']=[2, 5, 4, 3, 6, 5, 7]\n",
    "df['running_total']=df['Profit'].expanding().sum()   \n",
    "print(df)"
   ]
  },
  {
   "cell_type": "code",
   "execution_count": 255,
   "id": "ef256565-024f-4c49-94e6-58ae82b127d1",
   "metadata": {},
   "outputs": [
    {
     "name": "stdout",
     "output_type": "stream",
     "text": [
      "        Date  Sales  Profit  running_product\n",
      "0 2023-01-01     10       2                2\n",
      "1 2023-01-02     15       5               10\n",
      "2 2023-01-03     20       4               40\n",
      "3 2023-01-04     25       3              120\n",
      "4 2023-01-05     30       6              720\n",
      "5 2023-01-06     35       5             3600\n",
      "6 2023-01-07     40       7            25200\n"
     ]
    }
   ],
   "source": [
    "#Calculate the cumulative product of the Sales column. \n",
    "df=pd.DataFrame({'Date': pd.date_range('2023-01-01', periods=7, freq='D'),\n",
    "              'Sales' : [10, 15, 20, 25, 30, 35, 40]})\n",
    "df['Profit']=[2, 5, 4, 3, 6, 5, 7]\n",
    "df['running_product']=df['Profit'].cumprod()   #(just cumprod())\n",
    "print(df)"
   ]
  },
  {
   "cell_type": "code",
   "execution_count": 257,
   "id": "646df736-009c-4480-9a2f-434be8933150",
   "metadata": {},
   "outputs": [
    {
     "name": "stdout",
     "output_type": "stream",
     "text": [
      "        Date  Sales  rolling_max\n",
      "0 2023-01-01     10          NaN\n",
      "1 2023-01-02     15          NaN\n",
      "2 2023-01-03     20          NaN\n",
      "3 2023-01-04     25         25.0\n",
      "4 2023-01-05     30         30.0\n",
      "5 2023-01-06     35         35.0\n",
      "6 2023-01-07     40         40.0\n"
     ]
    }
   ],
   "source": [
    "#Compute a rolling max for Sales with a window of 4\n",
    "df=pd.DataFrame({'Date': pd.date_range('2023-01-01', periods=7, freq='D'),\n",
    "              'Sales' : [10, 15, 20, 25, 30, 35, 40]})\n",
    "df['rolling_max_of_4_days']=df['Sales'].rolling(window=4).max() \n",
    "print(df)"
   ]
  },
  {
   "cell_type": "code",
   "execution_count": 261,
   "id": "89fe16d6-f3fa-4e07-9210-5cff815270d8",
   "metadata": {},
   "outputs": [
    {
     "name": "stdout",
     "output_type": "stream",
     "text": [
      "        Date  Sales  Profit  correlation\n",
      "0 2023-01-01     10       2          NaN\n",
      "1 2023-01-02     15       5          NaN\n",
      "2 2023-01-03     20       4     0.654654\n",
      "3 2023-01-04     25       3    -1.000000\n",
      "4 2023-01-05     30       6     0.654654\n",
      "5 2023-01-06     35       5     0.654654\n",
      "6 2023-01-07     40       7     0.500000\n"
     ]
    }
   ],
   "source": [
    "# Calculate a rolling correlation between Sales and Profit with a window of 3\n",
    "df=pd.DataFrame({'Date': pd.date_range('2023-01-01', periods=7, freq='D'),\n",
    "              'Sales' : [10, 15, 20, 25, 30, 35, 40]})\n",
    "df['Profit']=[2, 5, 4, 3, 6, 5, 7]\n",
    "df['correlation']=df['Sales'].rolling(window=3).corr(df['Profit'])\n",
    "print(df)"
   ]
  },
  {
   "cell_type": "code",
   "execution_count": 263,
   "id": "40be9801-99da-42c2-b9cb-eaaff2d55c07",
   "metadata": {},
   "outputs": [
    {
     "name": "stdout",
     "output_type": "stream",
     "text": [
      "        Date  Sales  Profit  running_std_profit\n",
      "0 2023-01-01     10       2                 NaN\n",
      "1 2023-01-02     15       5            2.121320\n",
      "2 2023-01-03     20       4            1.527525\n",
      "3 2023-01-04     25       3            1.290994\n",
      "4 2023-01-05     30       6            1.581139\n",
      "5 2023-01-06     35       5            1.471960\n",
      "6 2023-01-07     40       7            1.718249\n"
     ]
    }
   ],
   "source": [
    "#Use .expanding() to compute the expanding standard deviation of Profit\n",
    "df=pd.DataFrame({'Date': pd.date_range('2023-01-01', periods=7, freq='D'),\n",
    "              'Sales' : [10, 15, 20, 25, 30, 35, 40]})\n",
    "df['Profit']=[2, 5, 4, 3, 6, 5, 7]\n",
    "df['running_std_profit']=df['Profit'].expanding().std()\n",
    "print(df)"
   ]
  },
  {
   "cell_type": "code",
   "execution_count": 265,
   "id": "ed61df52-cbfe-41ff-a1f6-5e88664214a7",
   "metadata": {},
   "outputs": [
    {
     "name": "stdout",
     "output_type": "stream",
     "text": [
      "        Date  Sales  rolling_median_sales_of_3days\n",
      "0 2023-01-01     10                            NaN\n",
      "1 2023-01-02     15                            NaN\n",
      "2 2023-01-03     20                           15.0\n",
      "3 2023-01-04     25                           20.0\n",
      "4 2023-01-05     30                           25.0\n",
      "5 2023-01-06     35                           30.0\n",
      "6 2023-01-07     40                           35.0\n"
     ]
    }
   ],
   "source": [
    "# Use .rolling() to calculate the rolling median of Sales with a window of 3\n",
    "df=pd.DataFrame({'Date': pd.date_range('2023-01-01', periods=7, freq='D'),\n",
    "              'Sales' : [10, 15, 20, 25, 30, 35, 40]})\n",
    "df['rolling_median_sales_of_3days']=df['Sales'].rolling(window=3).median()\n",
    "print(df)"
   ]
  },
  {
   "cell_type": "code",
   "execution_count": 267,
   "id": "96098416-ac5e-4dea-a032-77d1a863b0f3",
   "metadata": {},
   "outputs": [
    {
     "name": "stdout",
     "output_type": "stream",
     "text": [
      "                  Date  Sales  rolling_avgsales_of_6H\n",
      "0  2023-01-01 00:00:00     36                     NaN\n",
      "1  2023-01-01 01:00:00     83                     NaN\n",
      "2  2023-01-01 02:00:00     98                     NaN\n",
      "3  2023-01-01 03:00:00     17                     NaN\n",
      "4  2023-01-01 04:00:00     57                     NaN\n",
      "5  2023-01-01 05:00:00     23               52.333333\n",
      "6  2023-01-01 06:00:00     66               57.333333\n",
      "7  2023-01-01 07:00:00     92               58.833333\n",
      "8  2023-01-01 08:00:00      3               43.000000\n",
      "9  2023-01-01 09:00:00     96               56.166667\n",
      "10 2023-01-01 10:00:00     14               49.000000\n",
      "11 2023-01-01 11:00:00     97               61.333333\n",
      "12 2023-01-01 12:00:00     85               64.500000\n",
      "13 2023-01-01 13:00:00     97               65.333333\n",
      "14 2023-01-01 14:00:00     64               75.500000\n",
      "15 2023-01-01 15:00:00     41               66.333333\n",
      "16 2023-01-01 16:00:00     59               73.833333\n",
      "17 2023-01-01 17:00:00     19               60.833333\n",
      "18 2023-01-01 18:00:00     82               60.333333\n",
      "19 2023-01-01 19:00:00      1               44.333333\n",
      "20 2023-01-01 20:00:00     78               46.666667\n",
      "21 2023-01-01 21:00:00     79               53.000000\n",
      "22 2023-01-01 22:00:00     79               56.333333\n",
      "23 2023-01-01 23:00:00     25               57.333333\n"
     ]
    }
   ],
   "source": [
    "#On a DataFrame with hourly sales (24 rows), calculate a 6-hour rolling average\n",
    "df=pd.DataFrame({'Date': pd.date_range('2023-01-01', periods=24, freq='h'),\n",
    "              'Sales' : np.random.randint(1,100,24)})\n",
    "df['rolling_avgsales_of_6H']=df['Sales'].rolling(window=6).mean()\n",
    "print(df)"
   ]
  }
 ],
 "metadata": {
  "kernelspec": {
   "display_name": "Python 3 (ipykernel)",
   "language": "python",
   "name": "python3"
  },
  "language_info": {
   "codemirror_mode": {
    "name": "ipython",
    "version": 3
   },
   "file_extension": ".py",
   "mimetype": "text/x-python",
   "name": "python",
   "nbconvert_exporter": "python",
   "pygments_lexer": "ipython3",
   "version": "3.11.2"
  }
 },
 "nbformat": 4,
 "nbformat_minor": 5
}
